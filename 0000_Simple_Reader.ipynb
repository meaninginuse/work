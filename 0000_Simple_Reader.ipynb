{
  "nbformat": 4,
  "nbformat_minor": 0,
  "metadata": {
    "colab": {
      "name": "Overview of Colaboratory Features",
      "version": "0.3.2",
      "provenance": [],
      "collapsed_sections": [],
      "toc_visible": true,
      "include_colab_link": true
    },
    "kernelspec": {
      "display_name": "Python 3",
      "name": "python3"
    }
  },
  "cells": [
    {
      "cell_type": "markdown",
      "metadata": {
        "id": "view-in-github",
        "colab_type": "text"
      },
      "source": [
        "<a href=\"https://colab.research.google.com/github/meaninginuse/PythonForFinance/blob/master/0000_Simple_Reader.ipynb\" target=\"_parent\"><img src=\"https://colab.research.google.com/assets/colab-badge.svg\" alt=\"Open In Colab\"/></a>"
      ]
    },
    {
      "metadata": {
        "id": "WitGdq7aMQ8k",
        "colab_type": "code",
        "colab": {
          "base_uri": "https://localhost:8080/",
          "height": 136
        },
        "outputId": "351347db-4f72-4685-daa0-259fa256f805"
      },
      "cell_type": "code",
      "source": [
        "import spacy.cli\n",
        "spacy.cli.download(\"en_core_web_lg\")"
      ],
      "execution_count": 1,
      "outputs": [
        {
          "output_type": "stream",
          "text": [
            "\n",
            "\u001b[93m    Linking successful\u001b[0m\n",
            "    /usr/local/lib/python3.6/dist-packages/en_core_web_lg -->\n",
            "    /usr/local/lib/python3.6/dist-packages/spacy/data/en_core_web_lg\n",
            "\n",
            "    You can now load the model via spacy.load('en_core_web_lg')\n",
            "\n"
          ],
          "name": "stdout"
        }
      ]
    },
    {
      "metadata": {
        "id": "KnOtOFK42Vi1",
        "colab_type": "code",
        "colab": {
          "base_uri": "https://localhost:8080/",
          "height": 1088
        },
        "outputId": "d1639670-e89e-4afb-aeec-839444cefef0"
      },
      "cell_type": "code",
      "source": [
        "!pip install textacy"
      ],
      "execution_count": 2,
      "outputs": [
        {
          "output_type": "stream",
          "text": [
            "Collecting textacy\n",
            "\u001b[?25l  Downloading https://files.pythonhosted.org/packages/f7/13/77612f4393d9c8a55e53924f13b2cf8b835cbf4a5e69e288613ed2de9eca/textacy-0.6.2-py2.py3-none-any.whl (142kB)\n",
            "\u001b[K    100% |████████████████████████████████| 143kB 6.3MB/s \n",
            "\u001b[?25hCollecting ijson>=2.3 (from textacy)\n",
            "  Downloading https://files.pythonhosted.org/packages/7f/e9/8508c5f4987ba238a2b169e582c1f70a47272b22a2f1fb06b9318201bb9e/ijson-2.3-py2.py3-none-any.whl\n",
            "Requirement already satisfied: requests>=2.10.0 in /usr/local/lib/python3.6/dist-packages (from textacy) (2.18.4)\n",
            "Collecting unidecode>=0.04.19 (from textacy)\n",
            "\u001b[?25l  Downloading https://files.pythonhosted.org/packages/59/ef/67085e30e8bbcdd76e2f0a4ad8151c13a2c5bce77c85f8cad6e1f16fb141/Unidecode-1.0.22-py2.py3-none-any.whl (235kB)\n",
            "\u001b[K    100% |████████████████████████████████| 235kB 8.3MB/s \n",
            "\u001b[?25hRequirement already satisfied: tqdm>=4.11.1 in /usr/local/lib/python3.6/dist-packages (from textacy) (4.28.1)\n",
            "Collecting ftfy<5.0.0,>=4.2.0 (from textacy)\n",
            "\u001b[?25l  Downloading https://files.pythonhosted.org/packages/21/5d/9385540977b00df1f3a0c0f07b7e6c15b5e7a3109d7f6ae78a0a764dab22/ftfy-4.4.3.tar.gz (50kB)\n",
            "\u001b[K    100% |████████████████████████████████| 51kB 17.6MB/s \n",
            "\u001b[?25hRequirement already satisfied: cachetools>=2.0.0 in /usr/local/lib/python3.6/dist-packages (from textacy) (3.0.0)\n",
            "Collecting pyemd>=0.3.0 (from textacy)\n",
            "\u001b[?25l  Downloading https://files.pythonhosted.org/packages/c0/c5/7fea8e7a71cd026b30ed3c40e4c5ea13a173e28f8855da17e25271e8f545/pyemd-0.5.1.tar.gz (91kB)\n",
            "\u001b[K    100% |████████████████████████████████| 92kB 21.5MB/s \n",
            "\u001b[?25hRequirement already satisfied: scipy>=0.17.0 in /usr/local/lib/python3.6/dist-packages (from textacy) (0.19.1)\n",
            "Requirement already satisfied: numpy<2.0.0,>=1.9.0 in /usr/local/lib/python3.6/dist-packages (from textacy) (1.14.6)\n",
            "Requirement already satisfied: networkx>=1.11 in /usr/local/lib/python3.6/dist-packages (from textacy) (2.2)\n",
            "Requirement already satisfied: spacy>=2.0.0 in /usr/local/lib/python3.6/dist-packages (from textacy) (2.0.16)\n",
            "Collecting python-levenshtein>=0.12.0 (from textacy)\n",
            "\u001b[?25l  Downloading https://files.pythonhosted.org/packages/42/a9/d1785c85ebf9b7dfacd08938dd028209c34a0ea3b1bcdb895208bd40a67d/python-Levenshtein-0.12.0.tar.gz (48kB)\n",
            "\u001b[K    100% |████████████████████████████████| 51kB 16.3MB/s \n",
            "\u001b[?25hRequirement already satisfied: scikit-learn>=0.17.0 in /usr/local/lib/python3.6/dist-packages (from textacy) (0.19.2)\n",
            "Collecting pyphen>=0.9.4 (from textacy)\n",
            "\u001b[?25l  Downloading https://files.pythonhosted.org/packages/15/82/08a3629dce8d1f3d91db843bb36d4d7db6b6269d5067259613a0d5c8a9db/Pyphen-0.9.5-py2.py3-none-any.whl (3.0MB)\n",
            "\u001b[K    100% |████████████████████████████████| 3.0MB 8.7MB/s \n",
            "\u001b[?25hRequirement already satisfied: cytoolz>=0.8.0 in /usr/local/lib/python3.6/dist-packages (from textacy) (0.9.0.1)\n",
            "Requirement already satisfied: chardet<3.1.0,>=3.0.2 in /usr/local/lib/python3.6/dist-packages (from requests>=2.10.0->textacy) (3.0.4)\n",
            "Requirement already satisfied: certifi>=2017.4.17 in /usr/local/lib/python3.6/dist-packages (from requests>=2.10.0->textacy) (2018.10.15)\n",
            "Requirement already satisfied: urllib3<1.23,>=1.21.1 in /usr/local/lib/python3.6/dist-packages (from requests>=2.10.0->textacy) (1.22)\n",
            "Requirement already satisfied: idna<2.7,>=2.5 in /usr/local/lib/python3.6/dist-packages (from requests>=2.10.0->textacy) (2.6)\n",
            "Collecting html5lib (from ftfy<5.0.0,>=4.2.0->textacy)\n",
            "\u001b[?25l  Downloading https://files.pythonhosted.org/packages/a5/62/bbd2be0e7943ec8504b517e62bab011b4946e1258842bc159e5dfde15b96/html5lib-1.0.1-py2.py3-none-any.whl (117kB)\n",
            "\u001b[K    100% |████████████████████████████████| 122kB 26.3MB/s \n",
            "\u001b[?25hRequirement already satisfied: wcwidth in /usr/local/lib/python3.6/dist-packages (from ftfy<5.0.0,>=4.2.0->textacy) (0.1.7)\n",
            "Requirement already satisfied: decorator>=4.3.0 in /usr/local/lib/python3.6/dist-packages (from networkx>=1.11->textacy) (4.3.0)\n",
            "Requirement already satisfied: murmurhash<1.1.0,>=0.28.0 in /usr/local/lib/python3.6/dist-packages (from spacy>=2.0.0->textacy) (1.0.1)\n",
            "Requirement already satisfied: regex==2018.01.10 in /usr/local/lib/python3.6/dist-packages (from spacy>=2.0.0->textacy) (2018.1.10)\n",
            "Requirement already satisfied: thinc<6.13.0,>=6.12.0 in /usr/local/lib/python3.6/dist-packages (from spacy>=2.0.0->textacy) (6.12.0)\n",
            "Requirement already satisfied: msgpack-numpy<0.4.4 in /usr/local/lib/python3.6/dist-packages (from spacy>=2.0.0->textacy) (0.4.3.2)\n",
            "Requirement already satisfied: ujson>=1.35 in /usr/local/lib/python3.6/dist-packages (from spacy>=2.0.0->textacy) (1.35)\n",
            "Requirement already satisfied: plac<1.0.0,>=0.9.6 in /usr/local/lib/python3.6/dist-packages (from spacy>=2.0.0->textacy) (0.9.6)\n",
            "Requirement already satisfied: cymem<2.1.0,>=2.0.2 in /usr/local/lib/python3.6/dist-packages (from spacy>=2.0.0->textacy) (2.0.2)\n",
            "Requirement already satisfied: preshed<2.1.0,>=2.0.1 in /usr/local/lib/python3.6/dist-packages (from spacy>=2.0.0->textacy) (2.0.1)\n",
            "Requirement already satisfied: dill<0.3,>=0.2 in /usr/local/lib/python3.6/dist-packages (from spacy>=2.0.0->textacy) (0.2.8.2)\n",
            "Requirement already satisfied: setuptools in /usr/local/lib/python3.6/dist-packages (from python-levenshtein>=0.12.0->textacy) (40.5.0)\n",
            "Requirement already satisfied: toolz>=0.8.0 in /usr/local/lib/python3.6/dist-packages (from cytoolz>=0.8.0->textacy) (0.9.0)\n",
            "Requirement already satisfied: six>=1.9 in /usr/local/lib/python3.6/dist-packages (from html5lib->ftfy<5.0.0,>=4.2.0->textacy) (1.11.0)\n",
            "Requirement already satisfied: webencodings in /usr/local/lib/python3.6/dist-packages (from html5lib->ftfy<5.0.0,>=4.2.0->textacy) (0.5.1)\n",
            "Requirement already satisfied: msgpack<1.0.0,>=0.5.6 in /usr/local/lib/python3.6/dist-packages (from thinc<6.13.0,>=6.12.0->spacy>=2.0.0->textacy) (0.5.6)\n",
            "Requirement already satisfied: wrapt<1.11.0,>=1.10.0 in /usr/local/lib/python3.6/dist-packages (from thinc<6.13.0,>=6.12.0->spacy>=2.0.0->textacy) (1.10.11)\n",
            "Building wheels for collected packages: ftfy, pyemd, python-levenshtein\n",
            "  Running setup.py bdist_wheel for ftfy ... \u001b[?25l-\b \b\\\b \bdone\n",
            "\u001b[?25h  Stored in directory: /root/.cache/pip/wheels/37/54/00/d320239bfc8aad1455314f302dd82a75253fc585e17b81704e\n",
            "  Running setup.py bdist_wheel for pyemd ... \u001b[?25l-\b \b\\\b \b|\b \b/\b \b-\b \b\\\b \b|\b \b/\b \b-\b \bdone\n",
            "\u001b[?25h  Stored in directory: /root/.cache/pip/wheels/e4/ba/b0/1f4178a35c916b22fc51dc56f278125d4b8cfb0592e5f0cc24\n",
            "  Running setup.py bdist_wheel for python-levenshtein ... \u001b[?25l-\b \b\\\b \b|\b \bdone\n",
            "\u001b[?25h  Stored in directory: /root/.cache/pip/wheels/de/c2/93/660fd5f7559049268ad2dc6d81c4e39e9e36518766eaf7e342\n",
            "Successfully built ftfy pyemd python-levenshtein\n",
            "Installing collected packages: ijson, unidecode, html5lib, ftfy, pyemd, python-levenshtein, pyphen, textacy\n",
            "Successfully installed ftfy-4.4.3 html5lib-1.0.1 ijson-2.3 pyemd-0.5.1 pyphen-0.9.5 python-levenshtein-0.12.0 textacy-0.6.2 unidecode-1.0.22\n"
          ],
          "name": "stdout"
        }
      ]
    },
    {
      "metadata": {
        "id": "Z2gcv0El3qMW",
        "colab_type": "code",
        "colab": {}
      },
      "cell_type": "code",
      "source": [
        "from google.colab import files\n",
        "\n",
        "uploaded = files.upload()\n",
        "\n",
        "for fn in uploaded.keys():\n",
        "  print('User uploaded file \"{name}\" with length {length} bytes'.format(\n",
        "      name=fn, length=len(uploaded[fn])))"
      ],
      "execution_count": 0,
      "outputs": []
    },
    {
      "metadata": {
        "id": "-7V_IDZI3q0_",
        "colab_type": "code",
        "colab": {}
      },
      "cell_type": "code",
      "source": [
        "text = uploaded['Name.txt']\n",
        "type(text)\n",
        "#decouples text from dictionary key "
      ],
      "execution_count": 0,
      "outputs": []
    },
    {
      "metadata": {
        "id": "iK1OS6Hy2Wrz",
        "colab_type": "code",
        "colab": {}
      },
      "cell_type": "code",
      "source": [
        "sample = \"\"\"\"Conservative Leader Andrew Scheer has asked longtime MP Tony Clement to leave the Conservative caucus after he shared sexually explicit images and a video with an individual online — a transgression that has resulted in an alleged extortion attempt.\n",
        "\n",
        "Scheer said Wednesday new evidence has come to light to suggest this incident was not isolated — and that Clement is alleged to have engaged in similar behaviour in the past.\n",
        "\n",
        "Scheer had said earlier Wednesday that Clement was still a member of his caucus, despite his disappointment with the MP's actions, and that he believed Clement when he said this was an isolated incident.\n",
        "\n",
        "By mid-afternoon, shortly before question period, new developments had made Scheer's previous position untenable.\n",
        "\n",
        "\"I took him at his word that this was an isolated incident. Since then, there have been numerous reports of other incidents, allegations, so in that respect I've asked Tony to resign from caucus so that he can respond to these allegations,\" Scheer said.\n",
        "\n",
        "\"New information became available today to suggest this was not an isolated incident.\"\n",
        "\n",
        "Scheer said he was made aware of an RCMP investigation into the alleged extortion last week and then subsequently met with Clement face-to-face on Monday, when he was \"brought up to speed about what was going on.\"\n",
        "\n",
        "It was then mutually decided, Scheer said, that Clement should resign his justice critic role and positions on a number of Commons committees — including a top secret national security and intelligence committee.\n",
        "\n",
        "It is Clement's membership on this special committee in particular that raises red flags for high-level security operatives.\n",
        "\n",
        "\n",
        "Opposition Leader Andrew Scheer spoke to reporters as he arrived for his weekly Caucus meeting. His Justice Critic Tony Clement resigned last night after being the alleged victim of a blackmail attempt. 2:22\n",
        "Parliamentarians on this committee — MPs and senators alike — are privy to the nation's most guarded secrets as they review the work of the Canadian Security Intelligence Service (CSIS), the Communications Security Establishment, the Royal Canadian Mounted Police and the Canada Border Services Agency.\n",
        "\n",
        "Scheer said he would leave it to national security agencies to determine if Clement has been compromised as a result of this sexting scandal.\n",
        "\n",
        "\"I will leave it to them. Those are the experts,\" Scheer said.\n",
        "\n",
        "Other members of the committee were tight-lipped today about what Clement's sexting dilemma might mean for the reputation of the committee. The Liberal chair, Ontario MP David McGuinty, did not respond to a request for comment.\n",
        "\n",
        "Liberal Quebec MP Emmanuel Dubourg, another committee member, said people chosen for a position on the committee must go through the most thorough of security clearances.\n",
        "\n",
        "\"In that context, I can't say much about the situation. I can't say anything more,\" Dubourg said in French, adding that he was concerned.\n",
        "\n",
        "Trudeau has no comment\n",
        "Sources told CBC News Clement flagged the alleged extortion attempt a few days ago to the Privy Council Office — the branch of the bureaucracy that supports the prime minister and cabinet — and the special national security committee. The precise timeline of events was not immediately clear.\n",
        "\n",
        "Unlike other parliamentary committees that have to report to the House of Commons, this joint committee would respond directly to the prime minister. Trudeau told reporters Wednesday he had no comment on Clement.\n",
        "\n",
        "On Tuesday night, Clement sent out a statement saying he shared sexually explicit images and a video of himself with someone he believed was a consenting female. Clement said he had shared the images \"over the last three weeks.\"\n",
        "\n",
        "\"The recipient was, in fact, an individual or party who targeted me for the purpose of financial extortion,\" he wrote.\n",
        "\n",
        "Sources told CBC News that the would-be extortionist asked Clement to pay €50,000 ($75,200 Cdn) or risk seeing the images and video released publicly.\n",
        "\n",
        "Conservative MP Tony Clement resigns Commons duties over sexting scandal\n",
        "\"The RCMP are currently investigating the matter to determine the identity of the party responsible for the extortion attempt,\" Clement said.\n",
        "\n",
        "Earlier today, Scheer did not answer questions about whether Clement can run under the Conservative banner in 2019.\n",
        "\n",
        "\"I don't have anything further to add to that dynamic, or to anything about … internal caucus matters, but I think we can all agree that this was a very poor decision,\" he told reporters Wednesday.\n",
        "\n",
        "When asked if Conservative leadership has warned other Tory MPs against this sort of behaviour, Scheer said he shouldn't have to remind elected officials to refrain from obviously inappropriate conduct.\n",
        "\n",
        "\"I don't know that too many people would have to be told not to share explicit images and videos with people that you haven't met, but obviously this is a terrible decision.\"\n",
        "\n",
        "The Parry Sound-Muskoka MP was first elected to the House of Commons in 2006 after making the jump from provincial politics. Stephen Harper picked Clement for a number of senior cabinet positions in his government, including president of the Treasury Board and minister of industry.\n",
        "\n",
        "The U.K.-born Clement was elected to Queen's Park in 1995. He held a number of cabinet portfolios under former Ontario premier Mike Harris, including minister of health, before the ruling PCs were voted out of office in 2003.\n",
        "\n",
        "In 2004, he placed third in the leadership race, ultimately placing behind Harper and auto parts mogul Belinda Stronach.\n",
        "\n",
        "He dropped out of the 2016 leadership race after three short months, having failed to raise enough money to continue his efforts.\"\"\""
      ],
      "execution_count": 0,
      "outputs": []
    },
    {
      "metadata": {
        "id": "uYxgN4Xb3jI1",
        "colab_type": "code",
        "colab": {
          "base_uri": "https://localhost:8080/",
          "height": 163
        },
        "outputId": "4c2a7a14-892c-4e2c-ee28-aa7395b35736"
      },
      "cell_type": "code",
      "source": [
        "#turn bytes into string\n",
        "fix = sample.decode('unicode_escape')"
      ],
      "execution_count": 14,
      "outputs": [
        {
          "output_type": "error",
          "ename": "AttributeError",
          "evalue": "ignored",
          "traceback": [
            "\u001b[0;31m---------------------------------------------------------------------------\u001b[0m",
            "\u001b[0;31mAttributeError\u001b[0m                            Traceback (most recent call last)",
            "\u001b[0;32m<ipython-input-14-e4b4940b4ddb>\u001b[0m in \u001b[0;36m<module>\u001b[0;34m()\u001b[0m\n\u001b[0;32m----> 1\u001b[0;31m \u001b[0mfix\u001b[0m \u001b[0;34m=\u001b[0m \u001b[0msample\u001b[0m\u001b[0;34m.\u001b[0m\u001b[0mdecode\u001b[0m\u001b[0;34m(\u001b[0m\u001b[0;34m'unicode_escape'\u001b[0m\u001b[0;34m)\u001b[0m\u001b[0;34m\u001b[0m\u001b[0m\n\u001b[0m",
            "\u001b[0;31mAttributeError\u001b[0m: 'str' object has no attribute 'decode'"
          ]
        }
      ]
    },
    {
      "metadata": {
        "id": "L_fDFE933zYC",
        "colab_type": "code",
        "colab": {
          "base_uri": "https://localhost:8080/",
          "height": 197
        },
        "outputId": "4f54a34b-3b61-4b6f-b5fa-725e1889a8d8"
      },
      "cell_type": "code",
      "source": [
        "#check for bad unicode\n",
        "import textacy\n",
        "fix2 = textacy.preprocess.fix_bad_unicode(fix, normalization='NFC')\n",
        "type(fix2)"
      ],
      "execution_count": 6,
      "outputs": [
        {
          "output_type": "error",
          "ename": "NameError",
          "evalue": "ignored",
          "traceback": [
            "\u001b[0;31m---------------------------------------------------------------------------\u001b[0m",
            "\u001b[0;31mNameError\u001b[0m                                 Traceback (most recent call last)",
            "\u001b[0;32m<ipython-input-6-481085615076>\u001b[0m in \u001b[0;36m<module>\u001b[0;34m()\u001b[0m\n\u001b[1;32m      1\u001b[0m \u001b[0;32mimport\u001b[0m \u001b[0mtextacy\u001b[0m\u001b[0;34m\u001b[0m\u001b[0m\n\u001b[0;32m----> 2\u001b[0;31m \u001b[0mfix2\u001b[0m \u001b[0;34m=\u001b[0m \u001b[0mtextacy\u001b[0m\u001b[0;34m.\u001b[0m\u001b[0mpreprocess\u001b[0m\u001b[0;34m.\u001b[0m\u001b[0mfix_bad_unicode\u001b[0m\u001b[0;34m(\u001b[0m\u001b[0mfix\u001b[0m\u001b[0;34m,\u001b[0m \u001b[0mnormalization\u001b[0m\u001b[0;34m=\u001b[0m\u001b[0;34m'NFC'\u001b[0m\u001b[0;34m)\u001b[0m\u001b[0;34m\u001b[0m\u001b[0m\n\u001b[0m\u001b[1;32m      3\u001b[0m \u001b[0mtype\u001b[0m\u001b[0;34m(\u001b[0m\u001b[0mfix2\u001b[0m\u001b[0;34m)\u001b[0m\u001b[0;34m\u001b[0m\u001b[0m\n",
            "\u001b[0;31mNameError\u001b[0m: name 'fix' is not defined"
          ]
        }
      ]
    },
    {
      "metadata": {
        "id": "_rxCr20x35cp",
        "colab_type": "code",
        "colab": {}
      },
      "cell_type": "code",
      "source": [
        "#make into a spacy object\n",
        "doc = textacy.Doc(sample, lang=u'en_core_web_lg')"
      ],
      "execution_count": 0,
      "outputs": []
    },
    {
      "metadata": {
        "id": "iyNHuFi_3-Rj",
        "colab_type": "code",
        "colab": {
          "base_uri": "https://localhost:8080/",
          "height": 187
        },
        "outputId": "c0958cb0-35a5-4f06-e80a-dd525a61f5a3"
      },
      "cell_type": "code",
      "source": [
        "#taking in keyterms\n",
        "#easy to run\n",
        "import textacy.keyterms\n",
        "list(textacy.keyterms.key_terms_from_semantic_network(doc, normalize='lemma', window_width=2, edge_weighting='binary', ranking_algo='pagerank', join_key_words=False, n_keyterms=10))"
      ],
      "execution_count": 32,
      "outputs": [
        {
          "output_type": "execute_result",
          "data": {
            "text/plain": [
              "[('clement', 0.04184054871884239),\n",
              " ('scheer', 0.026348073858802473),\n",
              " ('committee', 0.025194428471572584),\n",
              " ('mp', 0.018818768602527357),\n",
              " ('-PRON-', 0.017309467012150748),\n",
              " ('security', 0.015051035063363697),\n",
              " ('caucus', 0.010824675908623314),\n",
              " ('that', 0.010406189679561865),\n",
              " ('other', 0.010015846745639297),\n",
              " ('minister', 0.00985786452243216)]"
            ]
          },
          "metadata": {
            "tags": []
          },
          "execution_count": 32
        }
      ]
    },
    {
      "metadata": {
        "id": "srCzCqFe4YIY",
        "colab_type": "code",
        "colab": {}
      },
      "cell_type": "code",
      "source": [
        "svo = list(textacy.extract.subject_verb_object_triples(doc))"
      ],
      "execution_count": 0,
      "outputs": []
    },
    {
      "metadata": {
        "id": "5eYEYapM4dPD",
        "colab_type": "code",
        "colab": {
          "base_uri": "https://localhost:8080/",
          "height": 952
        },
        "outputId": "a759e392-47bb-4c2a-d944-3fa1189e587f"
      },
      "cell_type": "code",
      "source": [
        "svo"
      ],
      "execution_count": 34,
      "outputs": [
        {
          "output_type": "execute_result",
          "data": {
            "text/plain": [
              "[(Leader Andrew Scheer, has asked, Clement),\n",
              " (Leader Andrew Scheer, has asked, transgression),\n",
              " (Leader Andrew Scheer, has asked, to leave),\n",
              " (he, shared, images),\n",
              " (he, shared, video),\n",
              " (Clement, is alleged, to have engaged),\n",
              " (Clement, was, member),\n",
              " (he, believed, Clement),\n",
              " (this, was, incident),\n",
              " (I, took, him),\n",
              " (this, was, incident),\n",
              " (there, have been, reports),\n",
              " (I, 've asked, Tony),\n",
              " (I, 've asked, to resign),\n",
              " (this, was not, incident),\n",
              " (he, was made, aware),\n",
              " (Clement, should resign, critic role),\n",
              " (Clement, should resign, positions),\n",
              " (It, is, membership),\n",
              " (that, raises, flags),\n",
              " (they, review, work),\n",
              " (he, would leave, it),\n",
              " (I, will leave, it),\n",
              " (Those, are, experts),\n",
              " (I, can't say, much),\n",
              " (I, can't say, anything),\n",
              " (Trudeau, has, comment),\n",
              " (CBC News Clement, flagged, extortion attempt),\n",
              " (CBC News Clement, flagged, security committee),\n",
              " (that, supports, minister),\n",
              " (that, supports, cabinet),\n",
              " (that, have, to report),\n",
              " (Trudeau, told, reporters),\n",
              " (he, had, comment),\n",
              " (Clement, sent, statement),\n",
              " (he, shared, images),\n",
              " (he, shared, video),\n",
              " (he, had shared, images),\n",
              " (who, targeted, me),\n",
              " (Sources, told, News),\n",
              " (extortionist, asked, Clement),\n",
              " (extortionist, asked, to pay),\n",
              " (MP, resigns, Commons duties),\n",
              " (RCMP, investigating, matter),\n",
              " (RCMP, investigating, to determine),\n",
              " (Scheer, did not answer, questions),\n",
              " (I, don't have, anything),\n",
              " (this, was, decision),\n",
              " (he, told, reporters),\n",
              " (leadership, has warned, Tory MPs),\n",
              " (he, shouldn't have, to remind),\n",
              " (people, would have, to be told),\n",
              " (this, is, decision),\n",
              " (Stephen Harper, picked, Clement),\n",
              " (He, held, number)]"
            ]
          },
          "metadata": {
            "tags": []
          },
          "execution_count": 34
        }
      ]
    },
    {
      "metadata": {
        "id": "Cxdn_s5y59qV",
        "colab_type": "code",
        "colab": {
          "base_uri": "https://localhost:8080/",
          "height": 2312
        },
        "outputId": "b7fa7641-5de6-405c-9344-07d8aea07ad1"
      },
      "cell_type": "code",
      "source": [
        "list(textacy.extract.named_entities(doc))"
      ],
      "execution_count": 36,
      "outputs": [
        {
          "output_type": "execute_result",
          "data": {
            "text/plain": [
              "[Andrew Scheer,\n",
              " Tony Clement,\n",
              " Conservative,\n",
              " Scheer,\n",
              " Wednesday,\n",
              " Clement,\n",
              " Scheer,\n",
              " earlier Wednesday,\n",
              " Clement,\n",
              " Clement,\n",
              " \n",
              " ,\n",
              " mid-afternoon,\n",
              " Scheer,\n",
              " \n",
              " ,\n",
              " Tony,\n",
              " Scheer,\n",
              " \n",
              " ,\n",
              " today,\n",
              " Scheer,\n",
              " RCMP,\n",
              " last week,\n",
              " Clement,\n",
              " Monday,\n",
              " Scheer,\n",
              " Clement,\n",
              " Commons,\n",
              " \n",
              " ,\n",
              " Clement,\n",
              " Andrew Scheer,\n",
              " weekly,\n",
              " Caucus,\n",
              " Justice,\n",
              " Tony Clement,\n",
              " last night,\n",
              " 2:22,\n",
              " Canadian Security Intelligence Service,\n",
              " CSIS,\n",
              " Communications Security Establishment,\n",
              " Royal Canadian Mounted Police,\n",
              " Canada Border Services Agency,\n",
              " \n",
              " ,\n",
              " Scheer,\n",
              " Clement,\n",
              " \n",
              " ,\n",
              " Scheer,\n",
              " \n",
              " ,\n",
              " today,\n",
              " Clement,\n",
              " Ontario,\n",
              " David McGuinty,\n",
              " Liberal Quebec,\n",
              " Emmanuel Dubourg,\n",
              " \n",
              " ,\n",
              " Dubourg,\n",
              " French,\n",
              " Trudeau,\n",
              " CBC News Clement,\n",
              " few days ago,\n",
              " Privy Council Office,\n",
              " \n",
              " ,\n",
              " House of Commons,\n",
              " Trudeau,\n",
              " Wednesday,\n",
              " Clement,\n",
              " \n",
              " ,\n",
              " Tuesday,\n",
              " night,\n",
              " Clement,\n",
              " Clement,\n",
              " last three weeks,\n",
              " \n",
              " ,\n",
              " \n",
              " ,\n",
              " CBC News,\n",
              " Clement,\n",
              " 50,000,\n",
              " 75,200,\n",
              " \n",
              " ,\n",
              " Tony Clement,\n",
              " RCMP,\n",
              " Clement,\n",
              " \n",
              " ,\n",
              " Earlier today,\n",
              " Scheer,\n",
              " Clement,\n",
              " Conservative,\n",
              " 2019,\n",
              " \n",
              " ,\n",
              " Wednesday,\n",
              " \n",
              " ,\n",
              " Tory,\n",
              " Scheer,\n",
              " \n",
              " ,\n",
              " \n",
              " ,\n",
              " Sound-,\n",
              " first,\n",
              " House of Commons,\n",
              " 2006,\n",
              " Stephen Harper,\n",
              " Clement,\n",
              " Treasury Board,\n",
              " \n",
              " ,\n",
              " U.K,\n",
              " Clement,\n",
              " Queen's Park,\n",
              " 1995,\n",
              " Ontario,\n",
              " Mike Harris,\n",
              " 2003,\n",
              " 2004,\n",
              " third,\n",
              " Harper,\n",
              " Belinda Stronach,\n",
              " \n",
              " ,\n",
              " 2016,\n",
              " three short months]"
            ]
          },
          "metadata": {
            "tags": []
          },
          "execution_count": 36
        }
      ]
    },
    {
      "metadata": {
        "id": "Ldxvp2DZ4dui",
        "colab_type": "code",
        "colab": {}
      },
      "cell_type": "code",
      "source": [
        "#write simple text \n",
        "textacy.io.text.write_text(str(svo), 'svo1.txt', mode='wt', encoding=None, make_dirs=False, lines=False)"
      ],
      "execution_count": 0,
      "outputs": []
    }
  ]
}