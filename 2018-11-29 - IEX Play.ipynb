{
  "nbformat": 4,
  "nbformat_minor": 0,
  "metadata": {
    "colab": {
      "name": "IEX.ipynb",
      "version": "0.3.2",
      "provenance": [],
      "collapsed_sections": [],
      "include_colab_link": true
    },
    "kernelspec": {
      "name": "python3",
      "display_name": "Python 3"
    }
  },
  "cells": [
    {
      "cell_type": "markdown",
      "metadata": {
        "id": "view-in-github",
        "colab_type": "text"
      },
      "source": [
        "<a href=\"https://colab.research.google.com/github/meaninginuse/PythonForFinance/blob/master/2018-11-29%20-%20IEX%20Play.ipynb\" target=\"_parent\"><img src=\"https://colab.research.google.com/assets/colab-badge.svg\" alt=\"Open In Colab\"/></a>"
      ]
    },
    {
      "metadata": {
        "id": "j4m10No1RQX1",
        "colab_type": "code",
        "colab": {
          "base_uri": "https://localhost:8080/",
          "height": 104
        },
        "outputId": "61d77222-506b-4116-fe6b-0a6df97e8d7d"
      },
      "cell_type": "code",
      "source": [
        "!pip install pandas==0.23.4"
      ],
      "execution_count": 3,
      "outputs": [
        {
          "output_type": "stream",
          "text": [
            "Requirement already satisfied: pandas==0.23.4 in /usr/local/lib/python3.6/dist-packages (0.23.4)\n",
            "Requirement already satisfied: python-dateutil>=2.5.0 in /usr/local/lib/python3.6/dist-packages (from pandas==0.23.4) (2.5.3)\n",
            "Requirement already satisfied: pytz>=2011k in /usr/local/lib/python3.6/dist-packages (from pandas==0.23.4) (2018.7)\n",
            "Requirement already satisfied: numpy>=1.9.0 in /usr/local/lib/python3.6/dist-packages (from pandas==0.23.4) (1.14.6)\n",
            "Requirement already satisfied: six>=1.5 in /usr/local/lib/python3.6/dist-packages (from python-dateutil>=2.5.0->pandas==0.23.4) (1.11.0)\n"
          ],
          "name": "stdout"
        }
      ]
    },
    {
      "metadata": {
        "id": "WcLyXwYyQyKb",
        "colab_type": "code",
        "colab": {
          "base_uri": "https://localhost:8080/",
          "height": 505
        },
        "outputId": "21d4b0eb-d684-4f16-ecc7-d01d47eb162d"
      },
      "cell_type": "code",
      "source": [
        "!pip install pyEX"
      ],
      "execution_count": 7,
      "outputs": [
        {
          "output_type": "stream",
          "text": [
            "Requirement already satisfied: pyEX in /usr/local/lib/python3.6/dist-packages (0.1.5)\n",
            "Requirement already satisfied: socketIO-client-nexus in /usr/local/lib/python3.6/dist-packages (from pyEX) (0.7.6)\n",
            "Requirement already satisfied: pillow in /usr/local/lib/python3.6/dist-packages (from pyEX) (4.0.0)\n",
            "Requirement already satisfied: pandas in /usr/local/lib/python3.6/dist-packages (from pyEX) (0.23.4)\n",
            "Requirement already satisfied: IPython in /usr/local/lib/python3.6/dist-packages (from pyEX) (5.5.0)\n",
            "Requirement already satisfied: requests>=2.7.0 in /usr/local/lib/python3.6/dist-packages (from socketIO-client-nexus->pyEX) (2.18.4)\n",
            "Requirement already satisfied: six in /usr/local/lib/python3.6/dist-packages (from socketIO-client-nexus->pyEX) (1.11.0)\n",
            "Requirement already satisfied: websocket-client in /usr/local/lib/python3.6/dist-packages (from socketIO-client-nexus->pyEX) (0.54.0)\n",
            "Requirement already satisfied: olefile in /usr/local/lib/python3.6/dist-packages (from pillow->pyEX) (0.46)\n",
            "Requirement already satisfied: numpy>=1.9.0 in /usr/local/lib/python3.6/dist-packages (from pandas->pyEX) (1.14.6)\n",
            "Requirement already satisfied: pytz>=2011k in /usr/local/lib/python3.6/dist-packages (from pandas->pyEX) (2018.7)\n",
            "Requirement already satisfied: python-dateutil>=2.5.0 in /usr/local/lib/python3.6/dist-packages (from pandas->pyEX) (2.5.3)\n",
            "Requirement already satisfied: prompt-toolkit<2.0.0,>=1.0.4 in /usr/local/lib/python3.6/dist-packages (from IPython->pyEX) (1.0.15)\n",
            "Requirement already satisfied: decorator in /usr/local/lib/python3.6/dist-packages (from IPython->pyEX) (4.3.0)\n",
            "Requirement already satisfied: pygments in /usr/local/lib/python3.6/dist-packages (from IPython->pyEX) (2.1.3)\n",
            "Requirement already satisfied: simplegeneric>0.8 in /usr/local/lib/python3.6/dist-packages (from IPython->pyEX) (0.8.1)\n",
            "Requirement already satisfied: traitlets>=4.2 in /usr/local/lib/python3.6/dist-packages (from IPython->pyEX) (4.3.2)\n",
            "Requirement already satisfied: pickleshare in /usr/local/lib/python3.6/dist-packages (from IPython->pyEX) (0.7.5)\n",
            "Requirement already satisfied: setuptools>=18.5 in /usr/local/lib/python3.6/dist-packages (from IPython->pyEX) (40.6.2)\n",
            "Requirement already satisfied: pexpect; sys_platform != \"win32\" in /usr/local/lib/python3.6/dist-packages (from IPython->pyEX) (4.6.0)\n",
            "Requirement already satisfied: idna<2.7,>=2.5 in /usr/local/lib/python3.6/dist-packages (from requests>=2.7.0->socketIO-client-nexus->pyEX) (2.6)\n",
            "Requirement already satisfied: chardet<3.1.0,>=3.0.2 in /usr/local/lib/python3.6/dist-packages (from requests>=2.7.0->socketIO-client-nexus->pyEX) (3.0.4)\n",
            "Requirement already satisfied: certifi>=2017.4.17 in /usr/local/lib/python3.6/dist-packages (from requests>=2.7.0->socketIO-client-nexus->pyEX) (2018.10.15)\n",
            "Requirement already satisfied: urllib3<1.23,>=1.21.1 in /usr/local/lib/python3.6/dist-packages (from requests>=2.7.0->socketIO-client-nexus->pyEX) (1.22)\n",
            "Requirement already satisfied: wcwidth in /usr/local/lib/python3.6/dist-packages (from prompt-toolkit<2.0.0,>=1.0.4->IPython->pyEX) (0.1.7)\n",
            "Requirement already satisfied: ipython-genutils in /usr/local/lib/python3.6/dist-packages (from traitlets>=4.2->IPython->pyEX) (0.2.0)\n",
            "Requirement already satisfied: ptyprocess>=0.5 in /usr/local/lib/python3.6/dist-packages (from pexpect; sys_platform != \"win32\"->IPython->pyEX) (0.6.0)\n"
          ],
          "name": "stdout"
        }
      ]
    },
    {
      "metadata": {
        "id": "B970unApRPgD",
        "colab_type": "code",
        "colab": {}
      },
      "cell_type": "code",
      "source": [
        "#https://github.com/timkpaine/pyEX/issues/32\n",
        "import pandas\n",
        "import pyEX as p"
      ],
      "execution_count": 0,
      "outputs": []
    },
    {
      "metadata": {
        "id": "KE_qXcsTRwgg",
        "colab_type": "code",
        "colab": {
          "base_uri": "https://localhost:8080/",
          "height": 35
        },
        "outputId": "7e1578ae-b199-407b-ad97-a658eb701695"
      },
      "cell_type": "code",
      "source": [
        "pandas.__version__\n"
      ],
      "execution_count": 6,
      "outputs": [
        {
          "output_type": "execute_result",
          "data": {
            "text/plain": [
              "'0.23.4'"
            ]
          },
          "metadata": {
            "tags": []
          },
          "execution_count": 6
        }
      ]
    },
    {
      "metadata": {
        "id": "-ixcKjQ5UD-t",
        "colab_type": "code",
        "colab": {}
      },
      "cell_type": "code",
      "source": [
        "symbols = ['RY']"
      ],
      "execution_count": 0,
      "outputs": []
    },
    {
      "metadata": {
        "id": "mklkban4Q6ZC",
        "colab_type": "code",
        "colab": {}
      },
      "cell_type": "code",
      "source": [
        "check = p.bulkBatchDF(symbols, types=None, _range='1m', last=10)\n"
      ],
      "execution_count": 0,
      "outputs": []
    },
    {
      "metadata": {
        "id": "F47-_LCGTTUu",
        "colab_type": "code",
        "colab": {
          "base_uri": "https://localhost:8080/",
          "height": 1563
        },
        "outputId": "8d3d86bd-0bfc-4bba-d0a1-1888dd2fea3d"
      },
      "cell_type": "code",
      "source": [
        "print(check)"
      ],
      "execution_count": 15,
      "outputs": [
        {
          "output_type": "stream",
          "text": [
            "{'book':    KEY  avgTotalVolume    ...     week52Low  ytdChange\n",
            "0   RY        807436.0    ...         69.99  -0.067273\n",
            "0   RY             NaN    ...           NaN        NaN\n",
            "1   RY             NaN    ...           NaN        NaN\n",
            "2   RY             NaN    ...           NaN        NaN\n",
            "3   RY             NaN    ...           NaN        NaN\n",
            "4   RY             NaN    ...           NaN        NaN\n",
            "5   RY             NaN    ...           NaN        NaN\n",
            "6   RY             NaN    ...           NaN        NaN\n",
            "7   RY             NaN    ...           NaN        NaN\n",
            "8   RY             NaN    ...           NaN        NaN\n",
            "9   RY             NaN    ...           NaN        NaN\n",
            "10  RY             NaN    ...           NaN        NaN\n",
            "11  RY             NaN    ...           NaN        NaN\n",
            "12  RY             NaN    ...           NaN        NaN\n",
            "13  RY             NaN    ...           NaN        NaN\n",
            "14  RY             NaN    ...           NaN        NaN\n",
            "15  RY             NaN    ...           NaN        NaN\n",
            "16  RY             NaN    ...           NaN        NaN\n",
            "17  RY             NaN    ...           NaN        NaN\n",
            "18  RY             NaN    ...           NaN        NaN\n",
            "19  RY             NaN    ...           NaN        NaN\n",
            "\n",
            "[21 rows x 51 columns], 'chart':            KEY  change   ...      volume     vwap\n",
            "date                     ...                     \n",
            "2018-10-29  RY   -0.53   ...      904151  72.1147\n",
            "2018-10-30  RY    1.14   ...      926066  72.0087\n",
            "2018-10-31  RY    0.09   ...      815201  73.2860\n",
            "2018-11-01  RY    0.37   ...      724694  73.1470\n",
            "2018-11-02  RY   -0.19   ...      568824  73.1942\n",
            "2018-11-05  RY   -0.05   ...      479759  73.1798\n",
            "2018-11-06  RY   -0.16   ...      530684  72.5860\n",
            "2018-11-07  RY    0.39   ...      564520  73.2787\n",
            "2018-11-08  RY    0.22   ...      418020  73.4025\n",
            "2018-11-09  RY   -0.81   ...      535256  72.6158\n",
            "2018-11-12  RY   -0.60   ...      488960  72.1219\n",
            "2018-11-13  RY    0.21   ...      546645  72.3518\n",
            "2018-11-14  RY   -0.28   ...      468008  72.1449\n",
            "2018-11-15  RY    0.60   ...      518831  72.2652\n",
            "2018-11-16  RY   -0.10   ...      533875  72.3972\n",
            "2018-11-19  RY   -0.53   ...      558066  71.7779\n",
            "2018-11-20  RY   -1.57   ...      670539  70.5596\n",
            "2018-11-21  RY    2.05   ...     1159911  72.2194\n",
            "2018-11-23  RY   -0.90   ...      404571  71.5594\n",
            "2018-11-26  RY   -0.47   ...     2213571  71.4075\n",
            "2018-11-27  RY    0.81   ...     1118797  71.5151\n",
            "2018-11-28  RY    2.13   ...     1423764  73.4767\n",
            "\n",
            "[22 rows x 12 columns], 'company':                    CEO         ...                     website\n",
            "symbol                         ...                            \n",
            "RY      David I. McKay         ...          http://www.rbc.com\n",
            "\n",
            "[1 rows x 10 columns], 'dividends': Empty DataFrame\n",
            "Columns: [KEY]\n",
            "Index: [], 'earnings':                EPSSurpriseDollar         ...          yearAgoChangePercent\n",
            "EPSReportDate                            ...                              \n",
            "2018-11-28                  0.10         ...                      0.110390\n",
            "2018-08-22                  0.04         ...                      0.177305\n",
            "2018-05-24                  0.03         ...                      0.161972\n",
            "2018-02-23                  0.15         ...                      0.228571\n",
            "\n",
            "[4 rows x 14 columns], 'financials':            KEY  cashChange     ...       totalLiabilities totalRevenue\n",
            "reportDate                     ...                                    \n",
            "2018-07-31  RY  -608262336     ...                   None   8487256408\n",
            "2018-04-30  RY -1436477844     ...                   None   7821170040\n",
            "2018-01-31  RY  5052686457     ...                   None   8779824963\n",
            "2017-10-31  RY  3104954971     ...                   None   8154482041\n",
            "\n",
            "[4 rows x 21 columns], 'stats':         EBITDA       ...        ytdChangePercent\n",
            "symbol               ...                        \n",
            "RY           0       ...               -0.062813\n",
            "\n",
            "[1 rows x 50 columns], 'news':                     KEY                        ...                                                                        url\n",
            "datetime                                       ...                                                                           \n",
            "2018-11-28 19:36:05  RY                        ...                          https://api.iextrading.com/1.0/stock/ry/articl...\n",
            "2018-11-28 16:42:49  RY                        ...                          https://api.iextrading.com/1.0/stock/ry/articl...\n",
            "2018-11-28 13:11:50  RY                        ...                          https://api.iextrading.com/1.0/stock/ry/articl...\n",
            "2018-11-28 11:15:32  RY                        ...                          https://api.iextrading.com/1.0/stock/ry/articl...\n",
            "\n",
            "[4 rows x 7 columns], 'peers':        KEY peer\n",
            "symbol         \n",
            "BMO     RY  BMO\n",
            "BNS     RY  BNS\n",
            "CM      RY   CM\n",
            "TD      RY   TD\n",
            "BAC     RY  BAC, 'splits': Empty DataFrame\n",
            "Columns: [KEY]\n",
            "Index: []}\n"
          ],
          "name": "stdout"
        }
      ]
    },
    {
      "metadata": {
        "id": "k5FnEsW-URj5",
        "colab_type": "code",
        "colab": {
          "base_uri": "https://localhost:8080/",
          "height": 222
        },
        "outputId": "f975be3a-8c33-4d69-f7ba-0542230ed9e5"
      },
      "cell_type": "code",
      "source": [
        "check['financials']"
      ],
      "execution_count": 16,
      "outputs": [
        {
          "output_type": "execute_result",
          "data": {
            "text/html": [
              "<div>\n",
              "<style scoped>\n",
              "    .dataframe tbody tr th:only-of-type {\n",
              "        vertical-align: middle;\n",
              "    }\n",
              "\n",
              "    .dataframe tbody tr th {\n",
              "        vertical-align: top;\n",
              "    }\n",
              "\n",
              "    .dataframe thead th {\n",
              "        text-align: right;\n",
              "    }\n",
              "</style>\n",
              "<table border=\"1\" class=\"dataframe\">\n",
              "  <thead>\n",
              "    <tr style=\"text-align: right;\">\n",
              "      <th></th>\n",
              "      <th>KEY</th>\n",
              "      <th>cashChange</th>\n",
              "      <th>cashFlow</th>\n",
              "      <th>costOfRevenue</th>\n",
              "      <th>currentAssets</th>\n",
              "      <th>currentCash</th>\n",
              "      <th>currentDebt</th>\n",
              "      <th>grossProfit</th>\n",
              "      <th>netIncome</th>\n",
              "      <th>operatingExpense</th>\n",
              "      <th>operatingGainsLosses</th>\n",
              "      <th>operatingIncome</th>\n",
              "      <th>operatingRevenue</th>\n",
              "      <th>researchAndDevelopment</th>\n",
              "      <th>shareholderEquity</th>\n",
              "      <th>symbol</th>\n",
              "      <th>totalAssets</th>\n",
              "      <th>totalCash</th>\n",
              "      <th>totalDebt</th>\n",
              "      <th>totalLiabilities</th>\n",
              "      <th>totalRevenue</th>\n",
              "    </tr>\n",
              "    <tr>\n",
              "      <th>reportDate</th>\n",
              "      <th></th>\n",
              "      <th></th>\n",
              "      <th></th>\n",
              "      <th></th>\n",
              "      <th></th>\n",
              "      <th></th>\n",
              "      <th></th>\n",
              "      <th></th>\n",
              "      <th></th>\n",
              "      <th></th>\n",
              "      <th></th>\n",
              "      <th></th>\n",
              "      <th></th>\n",
              "      <th></th>\n",
              "      <th></th>\n",
              "      <th></th>\n",
              "      <th></th>\n",
              "      <th></th>\n",
              "      <th></th>\n",
              "      <th></th>\n",
              "      <th></th>\n",
              "    </tr>\n",
              "  </thead>\n",
              "  <tbody>\n",
              "    <tr>\n",
              "      <th>2018-07-31</th>\n",
              "      <td>RY</td>\n",
              "      <td>-608262336</td>\n",
              "      <td>11914108104</td>\n",
              "      <td>None</td>\n",
              "      <td>None</td>\n",
              "      <td>24587776120</td>\n",
              "      <td>None</td>\n",
              "      <td>None</td>\n",
              "      <td>2381592808</td>\n",
              "      <td>None</td>\n",
              "      <td>-29184304</td>\n",
              "      <td>None</td>\n",
              "      <td>None</td>\n",
              "      <td>None</td>\n",
              "      <td>59736430248</td>\n",
              "      <td>RY</td>\n",
              "      <td>992553570992</td>\n",
              "      <td>None</td>\n",
              "      <td>None</td>\n",
              "      <td>None</td>\n",
              "      <td>8487256408</td>\n",
              "    </tr>\n",
              "    <tr>\n",
              "      <th>2018-04-30</th>\n",
              "      <td>RY</td>\n",
              "      <td>-1436477844</td>\n",
              "      <td>-5095445541</td>\n",
              "      <td>None</td>\n",
              "      <td>None</td>\n",
              "      <td>25523967765</td>\n",
              "      <td>None</td>\n",
              "      <td>None</td>\n",
              "      <td>2376732051</td>\n",
              "      <td>None</td>\n",
              "      <td>-49856064</td>\n",
              "      <td>None</td>\n",
              "      <td>None</td>\n",
              "      <td>None</td>\n",
              "      <td>58756150425</td>\n",
              "      <td>RY</td>\n",
              "      <td>993053336778</td>\n",
              "      <td>None</td>\n",
              "      <td>None</td>\n",
              "      <td>None</td>\n",
              "      <td>7821170040</td>\n",
              "    </tr>\n",
              "    <tr>\n",
              "      <th>2018-01-31</th>\n",
              "      <td>RY</td>\n",
              "      <td>5052686457</td>\n",
              "      <td>11844595854</td>\n",
              "      <td>None</td>\n",
              "      <td>None</td>\n",
              "      <td>28029121848</td>\n",
              "      <td>None</td>\n",
              "      <td>None</td>\n",
              "      <td>2438975721</td>\n",
              "      <td>None</td>\n",
              "      <td>-52826865</td>\n",
              "      <td>None</td>\n",
              "      <td>None</td>\n",
              "      <td>None</td>\n",
              "      <td>59114074656</td>\n",
              "      <td>RY</td>\n",
              "      <td>1037255494275</td>\n",
              "      <td>None</td>\n",
              "      <td>None</td>\n",
              "      <td>None</td>\n",
              "      <td>8779824963</td>\n",
              "    </tr>\n",
              "    <tr>\n",
              "      <th>2017-10-31</th>\n",
              "      <td>RY</td>\n",
              "      <td>3104954971</td>\n",
              "      <td>4894395670</td>\n",
              "      <td>None</td>\n",
              "      <td>None</td>\n",
              "      <td>22034088399</td>\n",
              "      <td>None</td>\n",
              "      <td>None</td>\n",
              "      <td>2194333653</td>\n",
              "      <td>None</td>\n",
              "      <td>-44212449</td>\n",
              "      <td>None</td>\n",
              "      <td>None</td>\n",
              "      <td>None</td>\n",
              "      <td>57265980653</td>\n",
              "      <td>RY</td>\n",
              "      <td>940757919421</td>\n",
              "      <td>None</td>\n",
              "      <td>None</td>\n",
              "      <td>None</td>\n",
              "      <td>8154482041</td>\n",
              "    </tr>\n",
              "  </tbody>\n",
              "</table>\n",
              "</div>"
            ],
            "text/plain": [
              "           KEY  cashChange     ...       totalLiabilities totalRevenue\n",
              "reportDate                     ...                                    \n",
              "2018-07-31  RY  -608262336     ...                   None   8487256408\n",
              "2018-04-30  RY -1436477844     ...                   None   7821170040\n",
              "2018-01-31  RY  5052686457     ...                   None   8779824963\n",
              "2017-10-31  RY  3104954971     ...                   None   8154482041\n",
              "\n",
              "[4 rows x 21 columns]"
            ]
          },
          "metadata": {
            "tags": []
          },
          "execution_count": 16
        }
      ]
    },
    {
      "metadata": {
        "id": "tivG300lUZ7-",
        "colab_type": "code",
        "colab": {}
      },
      "cell_type": "code",
      "source": [
        "listz = p.symbolsDF()"
      ],
      "execution_count": 0,
      "outputs": []
    },
    {
      "metadata": {
        "id": "S5xK_hXIXZPw",
        "colab_type": "code",
        "colab": {
          "base_uri": "https://localhost:8080/",
          "height": 35
        },
        "outputId": "14112375-d872-4d2e-fcd9-efaf3d02c416"
      },
      "cell_type": "code",
      "source": [
        "type(listz)"
      ],
      "execution_count": 21,
      "outputs": [
        {
          "output_type": "execute_result",
          "data": {
            "text/plain": [
              "pandas.core.frame.DataFrame"
            ]
          },
          "metadata": {
            "tags": []
          },
          "execution_count": 21
        }
      ]
    },
    {
      "metadata": {
        "id": "pOruJD0tZRFN",
        "colab_type": "code",
        "colab": {}
      },
      "cell_type": "code",
      "source": [
        "listz.to_csv('out.csv')"
      ],
      "execution_count": 0,
      "outputs": []
    },
    {
      "metadata": {
        "id": "lDiXhVbNa_uO",
        "colab_type": "code",
        "colab": {}
      },
      "cell_type": "code",
      "source": [
        ""
      ],
      "execution_count": 0,
      "outputs": []
    }
  ]
}