{
  "nbformat": 4,
  "nbformat_minor": 0,
  "metadata": {
    "colab": {
      "name": "Asynchronous Cloud Platform.ipynb",
      "version": "0.3.2",
      "provenance": [],
      "collapsed_sections": [],
      "include_colab_link": true
    },
    "kernelspec": {
      "name": "python3",
      "display_name": "Python 3"
    }
  },
  "cells": [
    {
      "cell_type": "markdown",
      "metadata": {
        "id": "view-in-github",
        "colab_type": "text"
      },
      "source": [
        "<a href=\"https://colab.research.google.com/github/meaninginuse/PythonForFinance/blob/master/2018-12-08-Beta_Cloud_Platform.ipynb\" target=\"_parent\"><img src=\"https://colab.research.google.com/assets/colab-badge.svg\" alt=\"Open In Colab\"/></a>"
      ]
    },
    {
      "metadata": {
        "id": "ET0gtMBrqBYr",
        "colab_type": "code",
        "colab": {}
      },
      "cell_type": "code",
      "source": [
        "#https://cloud.google.com/speech-to-text/docs/basics#uri-audio\n",
        "#how to load beta... https://googleapis.github.io/google-cloud-python/latest/speech/gapic/v1p1beta1/api.html\n",
        "#https://console.cloud.google.com/storage/browser/"
      ],
      "execution_count": 0,
      "outputs": []
    },
    {
      "metadata": {
        "id": "ueXw1Z2jXrq0",
        "colab_type": "code",
        "colab": {}
      },
      "cell_type": "code",
      "source": [
        "#activate API key\n",
        "import os\n",
        "os.environ[\"GOOGLE_APPLICATION_CREDENTIALS\"]=\"Key.json\""
      ],
      "execution_count": 0,
      "outputs": []
    },
    {
      "metadata": {
        "id": "U4rVyIG9XzvZ",
        "colab_type": "code",
        "outputId": "4a58bc27-91c7-40c9-f457-45fdaddc7de6",
        "colab": {
          "base_uri": "https://localhost:8080/",
          "height": 418
        }
      },
      "cell_type": "code",
      "source": [
        "!pip install --upgrade google-cloud-speech\n"
      ],
      "execution_count": 0,
      "outputs": [
        {
          "output_type": "stream",
          "text": [
            "Collecting google-cloud-speech\n",
            "\u001b[?25l  Downloading https://files.pythonhosted.org/packages/9a/a4/49b8e7b6b89facc17e554abe6aa401e01e076b64f79745e666460a8d5bd6/google_cloud_speech-0.36.0-py2.py3-none-any.whl (54kB)\n",
            "\u001b[K    100% |████████████████████████████████| 61kB 4.0MB/s \n",
            "\u001b[?25hRequirement already satisfied, skipping upgrade: google-api-core[grpc]<2.0.0dev,>=0.1.4 in /usr/local/lib/python3.6/dist-packages (from google-cloud-speech) (1.5.2)\n",
            "Requirement already satisfied, skipping upgrade: setuptools>=34.0.0 in /usr/local/lib/python3.6/dist-packages (from google-api-core[grpc]<2.0.0dev,>=0.1.4->google-cloud-speech) (40.6.2)\n",
            "Requirement already satisfied, skipping upgrade: protobuf>=3.4.0 in /usr/local/lib/python3.6/dist-packages (from google-api-core[grpc]<2.0.0dev,>=0.1.4->google-cloud-speech) (3.6.1)\n",
            "Requirement already satisfied, skipping upgrade: six>=1.10.0 in /usr/local/lib/python3.6/dist-packages (from google-api-core[grpc]<2.0.0dev,>=0.1.4->google-cloud-speech) (1.11.0)\n",
            "Requirement already satisfied, skipping upgrade: google-auth<2.0dev,>=0.4.0 in /usr/local/lib/python3.6/dist-packages (from google-api-core[grpc]<2.0.0dev,>=0.1.4->google-cloud-speech) (1.4.2)\n",
            "Requirement already satisfied, skipping upgrade: requests<3.0.0dev,>=2.18.0 in /usr/local/lib/python3.6/dist-packages (from google-api-core[grpc]<2.0.0dev,>=0.1.4->google-cloud-speech) (2.18.4)\n",
            "Requirement already satisfied, skipping upgrade: pytz in /usr/local/lib/python3.6/dist-packages (from google-api-core[grpc]<2.0.0dev,>=0.1.4->google-cloud-speech) (2018.7)\n",
            "Requirement already satisfied, skipping upgrade: googleapis-common-protos!=1.5.4,<2.0dev,>=1.5.3 in /usr/local/lib/python3.6/dist-packages (from google-api-core[grpc]<2.0.0dev,>=0.1.4->google-cloud-speech) (1.5.5)\n",
            "Requirement already satisfied, skipping upgrade: grpcio>=1.8.2; extra == \"grpc\" in /usr/local/lib/python3.6/dist-packages (from google-api-core[grpc]<2.0.0dev,>=0.1.4->google-cloud-speech) (1.15.0)\n",
            "Requirement already satisfied, skipping upgrade: rsa>=3.1.4 in /usr/local/lib/python3.6/dist-packages (from google-auth<2.0dev,>=0.4.0->google-api-core[grpc]<2.0.0dev,>=0.1.4->google-cloud-speech) (4.0)\n",
            "Requirement already satisfied, skipping upgrade: pyasn1-modules>=0.2.1 in /usr/local/lib/python3.6/dist-packages (from google-auth<2.0dev,>=0.4.0->google-api-core[grpc]<2.0.0dev,>=0.1.4->google-cloud-speech) (0.2.2)\n",
            "Requirement already satisfied, skipping upgrade: cachetools>=2.0.0 in /usr/local/lib/python3.6/dist-packages (from google-auth<2.0dev,>=0.4.0->google-api-core[grpc]<2.0.0dev,>=0.1.4->google-cloud-speech) (3.0.0)\n",
            "Requirement already satisfied, skipping upgrade: urllib3<1.23,>=1.21.1 in /usr/local/lib/python3.6/dist-packages (from requests<3.0.0dev,>=2.18.0->google-api-core[grpc]<2.0.0dev,>=0.1.4->google-cloud-speech) (1.22)\n",
            "Requirement already satisfied, skipping upgrade: chardet<3.1.0,>=3.0.2 in /usr/local/lib/python3.6/dist-packages (from requests<3.0.0dev,>=2.18.0->google-api-core[grpc]<2.0.0dev,>=0.1.4->google-cloud-speech) (3.0.4)\n",
            "Requirement already satisfied, skipping upgrade: certifi>=2017.4.17 in /usr/local/lib/python3.6/dist-packages (from requests<3.0.0dev,>=2.18.0->google-api-core[grpc]<2.0.0dev,>=0.1.4->google-cloud-speech) (2018.10.15)\n",
            "Requirement already satisfied, skipping upgrade: idna<2.7,>=2.5 in /usr/local/lib/python3.6/dist-packages (from requests<3.0.0dev,>=2.18.0->google-api-core[grpc]<2.0.0dev,>=0.1.4->google-cloud-speech) (2.6)\n",
            "Requirement already satisfied, skipping upgrade: pyasn1>=0.1.3 in /usr/local/lib/python3.6/dist-packages (from rsa>=3.1.4->google-auth<2.0dev,>=0.4.0->google-api-core[grpc]<2.0.0dev,>=0.1.4->google-cloud-speech) (0.4.4)\n",
            "Installing collected packages: google-cloud-speech\n",
            "Successfully installed google-cloud-speech-0.36.0\n"
          ],
          "name": "stdout"
        }
      ]
    },
    {
      "metadata": {
        "id": "fFqNsrLveGeI",
        "colab_type": "code",
        "colab": {}
      },
      "cell_type": "code",
      "source": [
        "#find file in GS storage\n",
        "gcs_uri = 'gs://audiodatas/file.wav'"
      ],
      "execution_count": 0,
      "outputs": []
    },
    {
      "metadata": {
        "colab_type": "code",
        "id": "L1NVbs4U8SbU",
        "colab": {}
      },
      "cell_type": "code",
      "source": [
        "\n",
        "\"\"\"Asynchronously transcribes the audio file specified by the gcs_uri.\"\"\"\n",
        "from google.cloud import speech_v1p1beta1\n",
        "from google.cloud.speech_v1p1beta1 import enums\n",
        "from google.cloud.speech_v1p1beta1 import types\n",
        "client = speech_v1p1beta1.SpeechClient()\n",
        "\n",
        "audio = types.RecognitionAudio(uri=gcs_uri)\n",
        "config = types.RecognitionConfig(\n",
        "        encoding=enums.RecognitionConfig.AudioEncoding.LINEAR16,\n",
        "        sample_rate_hertz=44100,\n",
        "        language_code='en-US',\n",
        "        enable_speaker_diarization=True,\n",
        "        diarization_speaker_count=2,\n",
        "        enable_automatic_punctuation=True,\n",
        "        enable_word_time_offsets=True)\n",
        "\n",
        "operation = client.long_running_recognize(config, audio)\n",
        "\n",
        "print('Waiting for operation to complete...')\n",
        "response = operation.result(timeout=90)\n",
        "\n",
        "    # Each result is for a consecutive portion of the audio. Iterate through\n",
        "    # them to get the transcripts for the entire audio file.\n",
        "for result in response.results:\n",
        "        # The first alternative is the most likely one for this portion.\n",
        "        print(u'{}'.format(result.alternatives[0].transcript))\n",
        "       "
      ],
      "execution_count": 0,
      "outputs": []
    },
    {
      "metadata": {
        "id": "Ws0bdNQ4eSWA",
        "colab_type": "code",
        "colab": {}
      },
      "cell_type": "code",
      "source": [
        ""
      ],
      "execution_count": 0,
      "outputs": []
    }
  ]
}