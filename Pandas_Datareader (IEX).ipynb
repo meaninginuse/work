{
  "nbformat": 4,
  "nbformat_minor": 0,
  "metadata": {
    "colab": {
      "name": "Pandas Datareader",
      "version": "0.3.2",
      "provenance": [],
      "include_colab_link": true
    },
    "kernelspec": {
      "name": "python3",
      "display_name": "Python 3"
    }
  },
  "cells": [
    {
      "cell_type": "markdown",
      "metadata": {
        "id": "view-in-github",
        "colab_type": "text"
      },
      "source": [
        "[View in Colaboratory](https://colab.research.google.com/github/meaninginuse/work/blob/master/Pandas_Datareader%20(IEX).ipynb)"
      ]
    },
    {
      "metadata": {
        "id": "szryDLdOyew8",
        "colab_type": "code",
        "colab": {}
      },
      "cell_type": "code",
      "source": [
        "import numpy as np\n",
        "import pandas as pd\n",
        "import pandas_datareader as web\n",
        "import datetime\n"
      ],
      "execution_count": 0,
      "outputs": []
    },
    {
      "metadata": {
        "id": "BR50s2FH0Rp0",
        "colab_type": "code",
        "colab": {}
      },
      "cell_type": "code",
      "source": [
        "start = datetime.datetime(2015, 1, 1)"
      ],
      "execution_count": 0,
      "outputs": []
    },
    {
      "metadata": {
        "id": "nzK4rF-aplmS",
        "colab_type": "code",
        "colab": {}
      },
      "cell_type": "code",
      "source": [
        "end = datetime.datetime(2018, 1, 27)"
      ],
      "execution_count": 0,
      "outputs": []
    },
    {
      "metadata": {
        "id": "3ieAyMSDqhmi",
        "colab_type": "code",
        "colab": {}
      },
      "cell_type": "code",
      "source": [
        "f = web.DataReader('GOOG', 'iex', start, end)"
      ],
      "execution_count": 0,
      "outputs": []
    },
    {
      "metadata": {
        "id": "ezOl8e3gqkBU",
        "colab_type": "code",
        "colab": {
          "base_uri": "https://localhost:8080/",
          "height": 235
        },
        "outputId": "e79307cd-2427-4784-a772-6bf2967992fe"
      },
      "cell_type": "code",
      "source": [
        "f.tail()"
      ],
      "execution_count": 65,
      "outputs": [
        {
          "output_type": "execute_result",
          "data": {
            "text/html": [
              "<div>\n",
              "<style scoped>\n",
              "    .dataframe tbody tr th:only-of-type {\n",
              "        vertical-align: middle;\n",
              "    }\n",
              "\n",
              "    .dataframe tbody tr th {\n",
              "        vertical-align: top;\n",
              "    }\n",
              "\n",
              "    .dataframe thead th {\n",
              "        text-align: right;\n",
              "    }\n",
              "</style>\n",
              "<table border=\"1\" class=\"dataframe\">\n",
              "  <thead>\n",
              "    <tr style=\"text-align: right;\">\n",
              "      <th></th>\n",
              "      <th>open</th>\n",
              "      <th>high</th>\n",
              "      <th>low</th>\n",
              "      <th>close</th>\n",
              "      <th>volume</th>\n",
              "    </tr>\n",
              "    <tr>\n",
              "      <th>date</th>\n",
              "      <th></th>\n",
              "      <th></th>\n",
              "      <th></th>\n",
              "      <th></th>\n",
              "      <th></th>\n",
              "    </tr>\n",
              "  </thead>\n",
              "  <tbody>\n",
              "    <tr>\n",
              "      <th>2018-01-22</th>\n",
              "      <td>1137.49</td>\n",
              "      <td>1159.88</td>\n",
              "      <td>1135.11</td>\n",
              "      <td>1155.81</td>\n",
              "      <td>1617975</td>\n",
              "    </tr>\n",
              "    <tr>\n",
              "      <th>2018-01-23</th>\n",
              "      <td>1159.85</td>\n",
              "      <td>1171.63</td>\n",
              "      <td>1158.75</td>\n",
              "      <td>1169.97</td>\n",
              "      <td>1333056</td>\n",
              "    </tr>\n",
              "    <tr>\n",
              "      <th>2018-01-24</th>\n",
              "      <td>1177.33</td>\n",
              "      <td>1179.86</td>\n",
              "      <td>1161.05</td>\n",
              "      <td>1164.24</td>\n",
              "      <td>1416625</td>\n",
              "    </tr>\n",
              "    <tr>\n",
              "      <th>2018-01-25</th>\n",
              "      <td>1172.53</td>\n",
              "      <td>1175.94</td>\n",
              "      <td>1162.76</td>\n",
              "      <td>1170.37</td>\n",
              "      <td>1480540</td>\n",
              "    </tr>\n",
              "    <tr>\n",
              "      <th>2018-01-26</th>\n",
              "      <td>1175.08</td>\n",
              "      <td>1175.84</td>\n",
              "      <td>1158.11</td>\n",
              "      <td>1175.84</td>\n",
              "      <td>2018755</td>\n",
              "    </tr>\n",
              "  </tbody>\n",
              "</table>\n",
              "</div>"
            ],
            "text/plain": [
              "               open     high      low    close   volume\n",
              "date                                                   \n",
              "2018-01-22  1137.49  1159.88  1135.11  1155.81  1617975\n",
              "2018-01-23  1159.85  1171.63  1158.75  1169.97  1333056\n",
              "2018-01-24  1177.33  1179.86  1161.05  1164.24  1416625\n",
              "2018-01-25  1172.53  1175.94  1162.76  1170.37  1480540\n",
              "2018-01-26  1175.08  1175.84  1158.11  1175.84  2018755"
            ]
          },
          "metadata": {
            "tags": []
          },
          "execution_count": 65
        }
      ]
    },
    {
      "metadata": {
        "id": "s-_gLDyarDc4",
        "colab_type": "code",
        "colab": {}
      },
      "cell_type": "code",
      "source": [
        ""
      ],
      "execution_count": 0,
      "outputs": []
    }
  ]
}