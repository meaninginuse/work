{
  "nbformat": 4,
  "nbformat_minor": 0,
  "metadata": {
    "colab": {
      "name": "Pandas_Datareader IEX",
      "version": "0.3.2",
      "provenance": [],
      "collapsed_sections": [],
      "include_colab_link": true
    },
    "kernelspec": {
      "name": "python3",
      "display_name": "Python 3"
    }
  },
  "cells": [
    {
      "cell_type": "markdown",
      "metadata": {
        "id": "view-in-github",
        "colab_type": "text"
      },
      "source": [
        "[View in Colaboratory](https://colab.research.google.com/github/meaninginuse/work/blob/master/Pandas_Datareader_VOO_Technical%20Analysis.ipynb)"
      ]
    },
    {
      "metadata": {
        "id": "M7YMMace6T8e",
        "colab_type": "code",
        "colab": {}
      },
      "cell_type": "code",
      "source": [
        "import numpy as np\n",
        "import pandas as pd\n",
        "import datetime\n",
        "import matplotlib as plt"
      ],
      "execution_count": 0,
      "outputs": []
    },
    {
      "metadata": {
        "id": "nFGJlNQzOGTz",
        "colab_type": "code",
        "colab": {}
      },
      "cell_type": "code",
      "source": [
        "!pip install -q pandas_datareader\n",
        "import pandas_datareader as web\n",
        "#install package each time - can't call pandas directly\n"
      ],
      "execution_count": 0,
      "outputs": []
    },
    {
      "metadata": {
        "id": "Vz8DSype6Zqe",
        "colab_type": "code",
        "colab": {}
      },
      "cell_type": "code",
      "source": [
        "start = datetime.datetime(2013, 1, 1)"
      ],
      "execution_count": 0,
      "outputs": []
    },
    {
      "metadata": {
        "id": "4jre3nil6bjR",
        "colab_type": "code",
        "colab": {}
      },
      "cell_type": "code",
      "source": [
        "end = datetime.datetime(2018, 10, 1)"
      ],
      "execution_count": 0,
      "outputs": []
    },
    {
      "metadata": {
        "id": "HpmSE1KV6dJ6",
        "colab_type": "code",
        "colab": {}
      },
      "cell_type": "code",
      "source": [
        "sp500 = web.DataReader('VOO', 'iex', start, end)\n"
      ],
      "execution_count": 0,
      "outputs": []
    },
    {
      "metadata": {
        "id": "EjNRkqbZ6efM",
        "colab_type": "code",
        "colab": {
          "base_uri": "https://localhost:8080/",
          "height": 173
        },
        "outputId": "8f669310-f098-4a9e-a1c2-3a1f62eaf1b0"
      },
      "cell_type": "code",
      "source": [
        "sp500.head(3)"
      ],
      "execution_count": 54,
      "outputs": [
        {
          "output_type": "execute_result",
          "data": {
            "text/html": [
              "<div>\n",
              "<style scoped>\n",
              "    .dataframe tbody tr th:only-of-type {\n",
              "        vertical-align: middle;\n",
              "    }\n",
              "\n",
              "    .dataframe tbody tr th {\n",
              "        vertical-align: top;\n",
              "    }\n",
              "\n",
              "    .dataframe thead th {\n",
              "        text-align: right;\n",
              "    }\n",
              "</style>\n",
              "<table border=\"1\" class=\"dataframe\">\n",
              "  <thead>\n",
              "    <tr style=\"text-align: right;\">\n",
              "      <th></th>\n",
              "      <th>open</th>\n",
              "      <th>high</th>\n",
              "      <th>low</th>\n",
              "      <th>close</th>\n",
              "      <th>volume</th>\n",
              "    </tr>\n",
              "    <tr>\n",
              "      <th>date</th>\n",
              "      <th></th>\n",
              "      <th></th>\n",
              "      <th></th>\n",
              "      <th></th>\n",
              "      <th></th>\n",
              "    </tr>\n",
              "  </thead>\n",
              "  <tbody>\n",
              "    <tr>\n",
              "      <th>2013-10-02</th>\n",
              "      <td>139.5586</td>\n",
              "      <td>140.3008</td>\n",
              "      <td>139.1603</td>\n",
              "      <td>140.2827</td>\n",
              "      <td>1253621</td>\n",
              "    </tr>\n",
              "    <tr>\n",
              "      <th>2013-10-03</th>\n",
              "      <td>139.9388</td>\n",
              "      <td>140.0474</td>\n",
              "      <td>138.3457</td>\n",
              "      <td>139.0336</td>\n",
              "      <td>1447710</td>\n",
              "    </tr>\n",
              "    <tr>\n",
              "      <th>2013-10-04</th>\n",
              "      <td>139.1060</td>\n",
              "      <td>140.1741</td>\n",
              "      <td>138.9250</td>\n",
              "      <td>140.0474</td>\n",
              "      <td>538464</td>\n",
              "    </tr>\n",
              "  </tbody>\n",
              "</table>\n",
              "</div>"
            ],
            "text/plain": [
              "                open      high       low     close   volume\n",
              "date                                                       \n",
              "2013-10-02  139.5586  140.3008  139.1603  140.2827  1253621\n",
              "2013-10-03  139.9388  140.0474  138.3457  139.0336  1447710\n",
              "2013-10-04  139.1060  140.1741  138.9250  140.0474   538464"
            ]
          },
          "metadata": {
            "tags": []
          },
          "execution_count": 54
        }
      ]
    },
    {
      "metadata": {
        "id": "pV6nNktl60d_",
        "colab_type": "code",
        "colab": {
          "base_uri": "https://localhost:8080/",
          "height": 187
        },
        "outputId": "ca59d557-c163-496f-8f54-0901f0b82ca8"
      },
      "cell_type": "code",
      "source": [
        "sp500.info()"
      ],
      "execution_count": 55,
      "outputs": [
        {
          "output_type": "stream",
          "text": [
            "<class 'pandas.core.frame.DataFrame'>\n",
            "Index: 1259 entries, 2013-10-02 to 2018-10-01\n",
            "Data columns (total 5 columns):\n",
            "open      1259 non-null float64\n",
            "high      1259 non-null float64\n",
            "low       1259 non-null float64\n",
            "close     1259 non-null float64\n",
            "volume    1259 non-null int64\n",
            "dtypes: float64(4), int64(1)\n",
            "memory usage: 59.0+ KB\n"
          ],
          "name": "stdout"
        }
      ]
    },
    {
      "metadata": {
        "id": "zY51EX9v8WCH",
        "colab_type": "code",
        "colab": {
          "base_uri": "https://localhost:8080/",
          "height": 341
        },
        "outputId": "78e1516c-9cf2-4659-c475-f10fe458f9d4"
      },
      "cell_type": "code",
      "source": [
        "sp500['close'].plot(grid=True, figsize=(8, 5))"
      ],
      "execution_count": 60,
      "outputs": [
        {
          "output_type": "execute_result",
          "data": {
            "text/plain": [
              "<matplotlib.axes._subplots.AxesSubplot at 0x7fd458558358>"
            ]
          },
          "metadata": {
            "tags": []
          },
          "execution_count": 60
        },
        {
          "output_type": "display_data",
          "data": {
            "image/png": "[encoded data removed]",
            "text/plain": [
              "<matplotlib.figure.Figure at 0x7fd45856ea58>"
            ]
          },
          "metadata": {
            "tags": []
          }
        }
      ]
    },
    {
      "metadata": {
        "id": "dah941iP94np",
        "colab_type": "code",
        "colab": {
          "base_uri": "https://localhost:8080/",
          "height": 119
        },
        "outputId": "49c230cf-aeeb-4e0c-d349-8f90add82298"
      },
      "cell_type": "code",
      "source": [
        "sp500['42d'] = np.round(pd.rolling_mean(sp500['close'], window=42), 2)\n",
        "sp500['252d'] = np.round(pd.rolling_mean(sp500['close'], window=252), 2)"
      ],
      "execution_count": 69,
      "outputs": [
        {
          "output_type": "stream",
          "text": [
            "/usr/local/lib/python3.6/dist-packages/ipykernel_launcher.py:1: FutureWarning: pd.rolling_mean is deprecated for Series and will be removed in a future version, replace with \n",
            "\tSeries.rolling(window=42,center=False).mean()\n",
            "  \"\"\"Entry point for launching an IPython kernel.\n",
            "/usr/local/lib/python3.6/dist-packages/ipykernel_launcher.py:2: FutureWarning: pd.rolling_mean is deprecated for Series and will be removed in a future version, replace with \n",
            "\tSeries.rolling(window=252,center=False).mean()\n",
            "  \n"
          ],
          "name": "stderr"
        }
      ]
    },
    {
      "metadata": {
        "id": "mnLjUm13-76Z",
        "colab_type": "code",
        "colab": {
          "base_uri": "https://localhost:8080/",
          "height": 235
        },
        "outputId": "691865ae-52a1-42ae-e1f8-c5b6549e5552"
      },
      "cell_type": "code",
      "source": [
        "sp500[['close', '42d', '252d']].tail()"
      ],
      "execution_count": 70,
      "outputs": [
        {
          "output_type": "execute_result",
          "data": {
            "text/html": [
              "<div>\n",
              "<style scoped>\n",
              "    .dataframe tbody tr th:only-of-type {\n",
              "        vertical-align: middle;\n",
              "    }\n",
              "\n",
              "    .dataframe tbody tr th {\n",
              "        vertical-align: top;\n",
              "    }\n",
              "\n",
              "    .dataframe thead th {\n",
              "        text-align: right;\n",
              "    }\n",
              "</style>\n",
              "<table border=\"1\" class=\"dataframe\">\n",
              "  <thead>\n",
              "    <tr style=\"text-align: right;\">\n",
              "      <th></th>\n",
              "      <th>close</th>\n",
              "      <th>42d</th>\n",
              "      <th>252d</th>\n",
              "    </tr>\n",
              "    <tr>\n",
              "      <th>date</th>\n",
              "      <th></th>\n",
              "      <th></th>\n",
              "      <th></th>\n",
              "    </tr>\n",
              "  </thead>\n",
              "  <tbody>\n",
              "    <tr>\n",
              "      <th>2018-09-25</th>\n",
              "      <td>267.1233</td>\n",
              "      <td>262.62</td>\n",
              "      <td>246.62</td>\n",
              "    </tr>\n",
              "    <tr>\n",
              "      <th>2018-09-26</th>\n",
              "      <td>266.3400</td>\n",
              "      <td>262.83</td>\n",
              "      <td>246.78</td>\n",
              "    </tr>\n",
              "    <tr>\n",
              "      <th>2018-09-27</th>\n",
              "      <td>267.0800</td>\n",
              "      <td>263.09</td>\n",
              "      <td>246.95</td>\n",
              "    </tr>\n",
              "    <tr>\n",
              "      <th>2018-09-28</th>\n",
              "      <td>267.0500</td>\n",
              "      <td>263.33</td>\n",
              "      <td>247.11</td>\n",
              "    </tr>\n",
              "    <tr>\n",
              "      <th>2018-10-01</th>\n",
              "      <td>268.0400</td>\n",
              "      <td>263.59</td>\n",
              "      <td>247.28</td>\n",
              "    </tr>\n",
              "  </tbody>\n",
              "</table>\n",
              "</div>"
            ],
            "text/plain": [
              "               close     42d    252d\n",
              "date                                \n",
              "2018-09-25  267.1233  262.62  246.62\n",
              "2018-09-26  266.3400  262.83  246.78\n",
              "2018-09-27  267.0800  263.09  246.95\n",
              "2018-09-28  267.0500  263.33  247.11\n",
              "2018-10-01  268.0400  263.59  247.28"
            ]
          },
          "metadata": {
            "tags": []
          },
          "execution_count": 70
        }
      ]
    },
    {
      "metadata": {
        "id": "u5yiDN7n_Qng",
        "colab_type": "code",
        "colab": {
          "base_uri": "https://localhost:8080/",
          "height": 341
        },
        "outputId": "bbb303e3-29f8-4a20-f351-6de2317ea9fc"
      },
      "cell_type": "code",
      "source": [
        "sp500[['close', '42d', '252d']].plot(grid=True, figsize=(8, 5))"
      ],
      "execution_count": 73,
      "outputs": [
        {
          "output_type": "execute_result",
          "data": {
            "text/plain": [
              "<matplotlib.axes._subplots.AxesSubplot at 0x7fd45c2e9c50>"
            ]
          },
          "metadata": {
            "tags": []
          },
          "execution_count": 73
        },
        {
          "output_type": "display_data",
          "data": {
            "image/png": "[encoded data removed]",
            "text/plain": [
              "<matplotlib.figure.Figure at 0x7fd458867860>"
            ]
          },
          "metadata": {
            "tags": []
          }
        }
      ]
    },
    {
      "metadata": {
        "id": "V-D9Kk97ZvyA",
        "colab_type": "code",
        "colab": {
          "base_uri": "https://localhost:8080/",
          "height": 136
        },
        "outputId": "9ff03b8a-c0ae-4fc0-ae05-376a1e5ca6f2"
      },
      "cell_type": "code",
      "source": [
        "sp500['42-252'] = sp500['42d'] - sp500['252d']\n",
        "sp500['42-252'].tail()"
      ],
      "execution_count": 74,
      "outputs": [
        {
          "output_type": "execute_result",
          "data": {
            "text/plain": [
              "date\n",
              "2018-09-25    16.00\n",
              "2018-09-26    16.05\n",
              "2018-09-27    16.14\n",
              "2018-09-28    16.22\n",
              "2018-10-01    16.31\n",
              "Name: 42-252, dtype: float64"
            ]
          },
          "metadata": {
            "tags": []
          },
          "execution_count": 74
        }
      ]
    },
    {
      "metadata": {
        "id": "k32s6ZmIaqgI",
        "colab_type": "code",
        "colab": {
          "base_uri": "https://localhost:8080/",
          "height": 136
        },
        "outputId": "90cc7d18-c8cb-429a-a5a7-08f66587584a"
      },
      "cell_type": "code",
      "source": [
        "sp500['42-252'].head()"
      ],
      "execution_count": 75,
      "outputs": [
        {
          "output_type": "execute_result",
          "data": {
            "text/plain": [
              "date\n",
              "2013-10-02   NaN\n",
              "2013-10-03   NaN\n",
              "2013-10-04   NaN\n",
              "2013-10-07   NaN\n",
              "2013-10-08   NaN\n",
              "Name: 42-252, dtype: float64"
            ]
          },
          "metadata": {
            "tags": []
          },
          "execution_count": 75
        }
      ]
    },
    {
      "metadata": {
        "id": "BzdDANsVav4k",
        "colab_type": "code",
        "colab": {
          "base_uri": "https://localhost:8080/",
          "height": 85
        },
        "outputId": "f84211ec-b622-40ad-8ac0-845bf7b1bb94"
      },
      "cell_type": "code",
      "source": [
        "SD = 1\n",
        "sp500['Regime'] = np.where(sp500['42-252'] > SD, 1, 0)\n",
        "sp500['Regime'] = np.where(sp500['42-252'] < -SD, -1, sp500['Regime'])\n",
        "sp500['Regime'].value_counts()"
      ],
      "execution_count": 107,
      "outputs": [
        {
          "output_type": "execute_result",
          "data": {
            "text/plain": [
              " 1    881\n",
              " 0    275\n",
              "-1    103\n",
              "Name: Regime, dtype: int64"
            ]
          },
          "metadata": {
            "tags": []
          },
          "execution_count": 107
        }
      ]
    },
    {
      "metadata": {
        "id": "32rg9snla3-o",
        "colab_type": "code",
        "colab": {
          "base_uri": "https://localhost:8080/",
          "height": 286
        },
        "outputId": "61d248ca-ea54-454e-8166-299466bfa9fd"
      },
      "cell_type": "code",
      "source": [
        "sp500['Regime'].plot(lw=1.5)"
      ],
      "execution_count": 108,
      "outputs": [
        {
          "output_type": "execute_result",
          "data": {
            "text/plain": [
              "<matplotlib.axes._subplots.AxesSubplot at 0x7fd457f67f28>"
            ]
          },
          "metadata": {
            "tags": []
          },
          "execution_count": 108
        },
        {
          "output_type": "display_data",
          "data": {
            "image/png": "[encoded data removed]",
            "text/plain": [
              "<matplotlib.figure.Figure at 0x7fd457f88e10>"
            ]
          },
          "metadata": {
            "tags": []
          }
        }
      ]
    },
    {
      "metadata": {
        "id": "sSoxxgR9bja5",
        "colab_type": "code",
        "colab": {}
      },
      "cell_type": "code",
      "source": [
        "sp500['Market'] = np.log(sp500['close'] / sp500['close'].shift(1))"
      ],
      "execution_count": 0,
      "outputs": []
    },
    {
      "metadata": {
        "id": "OsMYXA7rcoda",
        "colab_type": "code",
        "colab": {}
      },
      "cell_type": "code",
      "source": [
        "sp500['Strategy'] = sp500['Regime'].shift(1) * sp500['Market']"
      ],
      "execution_count": 0,
      "outputs": []
    },
    {
      "metadata": {
        "id": "eloGY2j7cw_M",
        "colab_type": "code",
        "colab": {
          "base_uri": "https://localhost:8080/",
          "height": 341
        },
        "outputId": "5e8e1fdf-45a5-49c2-b490-bae75925a40c"
      },
      "cell_type": "code",
      "source": [
        "sp500[['Market', 'Strategy']].cumsum().apply(np.exp).plot(grid=True,figsize=(8, 5))\n",
        "#this is far worse then what the Python book shows"
      ],
      "execution_count": 113,
      "outputs": [
        {
          "output_type": "execute_result",
          "data": {
            "text/plain": [
              "<matplotlib.axes._subplots.AxesSubplot at 0x7fd457ef0a90>"
            ]
          },
          "metadata": {
            "tags": []
          },
          "execution_count": 113
        },
        {
          "output_type": "display_data",
          "data": {
            "image/png": "[encoded data removed]",
            "text/plain": [
              "<matplotlib.figure.Figure at 0x7fd45837a518>"
            ]
          },
          "metadata": {
            "tags": []
          }
        }
      ]
    },
    {
      "metadata": {
        "id": "S-9BaCFAc7Oh",
        "colab_type": "code",
        "colab": {
          "base_uri": "https://localhost:8080/",
          "height": 142
        },
        "outputId": "d3fc50af-1c25-497b-a66f-54357dcfdc6d"
      },
      "cell_type": "code",
      "source": [
        "sp500[.head(2)]"
      ],
      "execution_count": 92,
      "outputs": [
        {
          "output_type": "execute_result",
          "data": {
            "text/html": [
              "<div>\n",
              "<style scoped>\n",
              "    .dataframe tbody tr th:only-of-type {\n",
              "        vertical-align: middle;\n",
              "    }\n",
              "\n",
              "    .dataframe tbody tr th {\n",
              "        vertical-align: top;\n",
              "    }\n",
              "\n",
              "    .dataframe thead th {\n",
              "        text-align: right;\n",
              "    }\n",
              "</style>\n",
              "<table border=\"1\" class=\"dataframe\">\n",
              "  <thead>\n",
              "    <tr style=\"text-align: right;\">\n",
              "      <th></th>\n",
              "      <th>open</th>\n",
              "      <th>high</th>\n",
              "      <th>low</th>\n",
              "      <th>close</th>\n",
              "      <th>volume</th>\n",
              "      <th>42d</th>\n",
              "      <th>252d</th>\n",
              "      <th>42-252</th>\n",
              "      <th>Regime</th>\n",
              "      <th>Market</th>\n",
              "      <th>Strategy</th>\n",
              "    </tr>\n",
              "    <tr>\n",
              "      <th>date</th>\n",
              "      <th></th>\n",
              "      <th></th>\n",
              "      <th></th>\n",
              "      <th></th>\n",
              "      <th></th>\n",
              "      <th></th>\n",
              "      <th></th>\n",
              "      <th></th>\n",
              "      <th></th>\n",
              "      <th></th>\n",
              "      <th></th>\n",
              "    </tr>\n",
              "  </thead>\n",
              "  <tbody>\n",
              "    <tr>\n",
              "      <th>2013-10-02</th>\n",
              "      <td>139.5586</td>\n",
              "      <td>140.3008</td>\n",
              "      <td>139.1603</td>\n",
              "      <td>140.2827</td>\n",
              "      <td>1253621</td>\n",
              "      <td>NaN</td>\n",
              "      <td>NaN</td>\n",
              "      <td>NaN</td>\n",
              "      <td>0</td>\n",
              "      <td>NaN</td>\n",
              "      <td>NaN</td>\n",
              "    </tr>\n",
              "    <tr>\n",
              "      <th>2013-10-03</th>\n",
              "      <td>139.9388</td>\n",
              "      <td>140.0474</td>\n",
              "      <td>138.3457</td>\n",
              "      <td>139.0336</td>\n",
              "      <td>1447710</td>\n",
              "      <td>NaN</td>\n",
              "      <td>NaN</td>\n",
              "      <td>NaN</td>\n",
              "      <td>0</td>\n",
              "      <td>-0.008944</td>\n",
              "      <td>-0.0</td>\n",
              "    </tr>\n",
              "  </tbody>\n",
              "</table>\n",
              "</div>"
            ],
            "text/plain": [
              "                open      high       low     close   volume  42d  252d  \\\n",
              "date                                                                     \n",
              "2013-10-02  139.5586  140.3008  139.1603  140.2827  1253621  NaN   NaN   \n",
              "2013-10-03  139.9388  140.0474  138.3457  139.0336  1447710  NaN   NaN   \n",
              "\n",
              "            42-252  Regime    Market  Strategy  \n",
              "date                                            \n",
              "2013-10-02     NaN       0       NaN       NaN  \n",
              "2013-10-03     NaN       0 -0.008944      -0.0  "
            ]
          },
          "metadata": {
            "tags": []
          },
          "execution_count": 92
        }
      ]
    },
    {
      "metadata": {
        "id": "USgpM9F_d4pI",
        "colab_type": "code",
        "colab": {}
      },
      "cell_type": "code",
      "source": [
        ""
      ],
      "execution_count": 0,
      "outputs": []
    }
  ]
}