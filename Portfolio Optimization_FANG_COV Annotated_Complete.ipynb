{
  "nbformat": 4,
  "nbformat_minor": 0,
  "metadata": {
    "colab": {
      "name": "Pandas_Datareader IEX",
      "version": "0.3.2",
      "provenance": [],
      "collapsed_sections": [],
      "include_colab_link": true
    },
    "kernelspec": {
      "name": "python3",
      "display_name": "Python 3"
    }
  },
  "cells": [
    {
      "cell_type": "markdown",
      "metadata": {
        "id": "view-in-github",
        "colab_type": "text"
      },
      "source": [
        "[View in Colaboratory](https://colab.research.google.com/github/meaninginuse/work/blob/master/Portfolio%20Optimization_FANG_COV%20Annotated_Complete.ipynb)"
      ]
    },
    {
      "metadata": {
        "id": "M7YMMace6T8e",
        "colab_type": "code",
        "colab": {}
      },
      "cell_type": "code",
      "source": [
        "import numpy as np\n",
        "import pandas as pd\n",
        "import datetime\n",
        "import matplotlib.pyplot as plt\n",
        "#pyplot had to be imported"
      ],
      "execution_count": 0,
      "outputs": []
    },
    {
      "metadata": {
        "id": "JOdGbXngVOWh",
        "colab_type": "code",
        "colab": {}
      },
      "cell_type": "code",
      "source": [
        "!pip install -q pandas_datareader\n",
        "import pandas_datareader as web\n",
        "#install package each time - can't call pandas directly"
      ],
      "execution_count": 0,
      "outputs": []
    },
    {
      "metadata": {
        "id": "xfI7VU7Fdp-8",
        "colab_type": "code",
        "colab": {}
      },
      "cell_type": "code",
      "source": [
        "symbols = ['FB', 'AAPL', 'NFLX', 'GOOG']\n",
        "noa = len(symbols)\n",
        "# this is a list that will then be looped for a dataframe"
      ],
      "execution_count": 0,
      "outputs": []
    },
    {
      "metadata": {
        "id": "t-6ftj4XsvVS",
        "colab_type": "code",
        "colab": {
          "base_uri": "https://localhost:8080/",
          "height": 34
        },
        "outputId": "8038802e-af59-406b-dd87-a4075f56d207"
      },
      "cell_type": "code",
      "source": [
        "type(noa)"
      ],
      "execution_count": 5,
      "outputs": [
        {
          "output_type": "execute_result",
          "data": {
            "text/plain": [
              "int"
            ]
          },
          "metadata": {
            "tags": []
          },
          "execution_count": 5
        }
      ]
    },
    {
      "metadata": {
        "id": "Vz8DSype6Zqe",
        "colab_type": "code",
        "colab": {}
      },
      "cell_type": "code",
      "source": [
        "start = datetime.datetime(2018, 4, 28)\n",
        "#datetime for pulling quotes"
      ],
      "execution_count": 0,
      "outputs": []
    },
    {
      "metadata": {
        "id": "4jre3nil6bjR",
        "colab_type": "code",
        "colab": {}
      },
      "cell_type": "code",
      "source": [
        "end = datetime.datetime(2018, 10, 3)"
      ],
      "execution_count": 0,
      "outputs": []
    },
    {
      "metadata": {
        "id": "HpmSE1KV6dJ6",
        "colab_type": "code",
        "colab": {
          "base_uri": "https://localhost:8080/",
          "height": 111
        },
        "outputId": "f4bab38c-b25d-4523-81ac-3c75977fdb01"
      },
      "cell_type": "code",
      "source": [
        "f = web.DataReader('GOOG', 'iex', start, end)\n",
        "f.head(1)\n",
        "#check if the Datareader is working"
      ],
      "execution_count": 88,
      "outputs": [
        {
          "output_type": "execute_result",
          "data": {
            "text/html": [
              "<div>\n",
              "<style scoped>\n",
              "    .dataframe tbody tr th:only-of-type {\n",
              "        vertical-align: middle;\n",
              "    }\n",
              "\n",
              "    .dataframe tbody tr th {\n",
              "        vertical-align: top;\n",
              "    }\n",
              "\n",
              "    .dataframe thead th {\n",
              "        text-align: right;\n",
              "    }\n",
              "</style>\n",
              "<table border=\"1\" class=\"dataframe\">\n",
              "  <thead>\n",
              "    <tr style=\"text-align: right;\">\n",
              "      <th></th>\n",
              "      <th>open</th>\n",
              "      <th>high</th>\n",
              "      <th>low</th>\n",
              "      <th>close</th>\n",
              "      <th>volume</th>\n",
              "    </tr>\n",
              "    <tr>\n",
              "      <th>date</th>\n",
              "      <th></th>\n",
              "      <th></th>\n",
              "      <th></th>\n",
              "      <th></th>\n",
              "      <th></th>\n",
              "    </tr>\n",
              "  </thead>\n",
              "  <tbody>\n",
              "    <tr>\n",
              "      <th>2018-04-30</th>\n",
              "      <td>1030.01</td>\n",
              "      <td>1037.0</td>\n",
              "      <td>1016.85</td>\n",
              "      <td>1017.33</td>\n",
              "      <td>1671254</td>\n",
              "    </tr>\n",
              "  </tbody>\n",
              "</table>\n",
              "</div>"
            ],
            "text/plain": [
              "               open    high      low    close   volume\n",
              "date                                                  \n",
              "2018-04-30  1030.01  1037.0  1016.85  1017.33  1671254"
            ]
          },
          "metadata": {
            "tags": []
          },
          "execution_count": 88
        }
      ]
    },
    {
      "metadata": {
        "id": "EjNRkqbZ6efM",
        "colab_type": "code",
        "colab": {
          "base_uri": "https://localhost:8080/",
          "height": 111
        },
        "outputId": "e2c7d75c-d8a4-48c4-bc94-bc7215ee9e27"
      },
      "cell_type": "code",
      "source": [
        "data = pd.DataFrame()\n",
        "for sym in symbols:\n",
        " data[sym] = web.DataReader(sym, data_source='iex', start=start, end=end)['close']\n",
        "data.columns = symbols\n",
        "#loop that creates a dataframe\n",
        "data.head(1)"
      ],
      "execution_count": 89,
      "outputs": [
        {
          "output_type": "execute_result",
          "data": {
            "text/html": [
              "<div>\n",
              "<style scoped>\n",
              "    .dataframe tbody tr th:only-of-type {\n",
              "        vertical-align: middle;\n",
              "    }\n",
              "\n",
              "    .dataframe tbody tr th {\n",
              "        vertical-align: top;\n",
              "    }\n",
              "\n",
              "    .dataframe thead th {\n",
              "        text-align: right;\n",
              "    }\n",
              "</style>\n",
              "<table border=\"1\" class=\"dataframe\">\n",
              "  <thead>\n",
              "    <tr style=\"text-align: right;\">\n",
              "      <th></th>\n",
              "      <th>FB</th>\n",
              "      <th>AAPL</th>\n",
              "      <th>NFLX</th>\n",
              "      <th>GOOG</th>\n",
              "    </tr>\n",
              "    <tr>\n",
              "      <th>date</th>\n",
              "      <th></th>\n",
              "      <th></th>\n",
              "      <th></th>\n",
              "      <th></th>\n",
              "    </tr>\n",
              "  </thead>\n",
              "  <tbody>\n",
              "    <tr>\n",
              "      <th>2018-04-30</th>\n",
              "      <td>172.0</td>\n",
              "      <td>164.0499</td>\n",
              "      <td>312.46</td>\n",
              "      <td>1017.33</td>\n",
              "    </tr>\n",
              "  </tbody>\n",
              "</table>\n",
              "</div>"
            ],
            "text/plain": [
              "               FB      AAPL    NFLX     GOOG\n",
              "date                                        \n",
              "2018-04-30  172.0  164.0499  312.46  1017.33"
            ]
          },
          "metadata": {
            "tags": []
          },
          "execution_count": 89
        }
      ]
    },
    {
      "metadata": {
        "id": "pV6nNktl60d_",
        "colab_type": "code",
        "colab": {
          "base_uri": "https://localhost:8080/",
          "height": 668
        },
        "outputId": "95b829c7-0ee1-4a54-afab-11974d7412cf"
      },
      "cell_type": "code",
      "source": [
        "(data / data.iloc[0] * 100).plot(figsize=(12, 5))\n",
        "(data).plot(figsize=(12, 5))\n",
        "#ix is depreciated, replaced by iloc\n",
        "#this normals the data to a zero base\n"
      ],
      "execution_count": 90,
      "outputs": [
        {
          "output_type": "execute_result",
          "data": {
            "text/plain": [
              "<matplotlib.axes._subplots.AxesSubplot at 0x7f2b4f865a58>"
            ]
          },
          "metadata": {
            "tags": []
          },
          "execution_count": 90
        },
        {
          "output_type": "display_data",
          "data": {
            "image/png": "[encoded data removed]",
            "text/plain": [
              "<matplotlib.figure.Figure at 0x7f2b4f815b38>"
            ]
          },
          "metadata": {
            "tags": []
          }
        },
        {
          "output_type": "display_data",
          "data": {
            "image/png": "[encoded data removed]",
            "text/plain": [
              "<matplotlib.figure.Figure at 0x7f2b4f8ae9e8>"
            ]
          },
          "metadata": {
            "tags": []
          }
        }
      ]
    },
    {
      "metadata": {
        "id": "zY51EX9v8WCH",
        "colab_type": "code",
        "colab": {
          "base_uri": "https://localhost:8080/",
          "height": 264
        },
        "outputId": "e48f04ca-5d91-4ee9-eabc-822d29dfac1f"
      },
      "cell_type": "code",
      "source": [
        "rets = np.log(data / data.shift(1))\n",
        "#new column for returns based on position above\n",
        "#this uses log returns\n",
        "rets.info()\n",
        "#info show that the dataframe is empty for the first column, there's no shift down\n",
        "rets.head(1)\n"
      ],
      "execution_count": 92,
      "outputs": [
        {
          "output_type": "stream",
          "text": [
            "<class 'pandas.core.frame.DataFrame'>\n",
            "Index: 110 entries, 2018-04-30 to 2018-10-03\n",
            "Data columns (total 4 columns):\n",
            "FB      109 non-null float64\n",
            "AAPL    109 non-null float64\n",
            "NFLX    109 non-null float64\n",
            "GOOG    109 non-null float64\n",
            "dtypes: float64(4)\n",
            "memory usage: 4.3+ KB\n"
          ],
          "name": "stdout"
        },
        {
          "output_type": "execute_result",
          "data": {
            "text/html": [
              "<div>\n",
              "<style scoped>\n",
              "    .dataframe tbody tr th:only-of-type {\n",
              "        vertical-align: middle;\n",
              "    }\n",
              "\n",
              "    .dataframe tbody tr th {\n",
              "        vertical-align: top;\n",
              "    }\n",
              "\n",
              "    .dataframe thead th {\n",
              "        text-align: right;\n",
              "    }\n",
              "</style>\n",
              "<table border=\"1\" class=\"dataframe\">\n",
              "  <thead>\n",
              "    <tr style=\"text-align: right;\">\n",
              "      <th></th>\n",
              "      <th>FB</th>\n",
              "      <th>AAPL</th>\n",
              "      <th>NFLX</th>\n",
              "      <th>GOOG</th>\n",
              "    </tr>\n",
              "    <tr>\n",
              "      <th>date</th>\n",
              "      <th></th>\n",
              "      <th></th>\n",
              "      <th></th>\n",
              "      <th></th>\n",
              "    </tr>\n",
              "  </thead>\n",
              "  <tbody>\n",
              "    <tr>\n",
              "      <th>2018-04-30</th>\n",
              "      <td>NaN</td>\n",
              "      <td>NaN</td>\n",
              "      <td>NaN</td>\n",
              "      <td>NaN</td>\n",
              "    </tr>\n",
              "  </tbody>\n",
              "</table>\n",
              "</div>"
            ],
            "text/plain": [
              "            FB  AAPL  NFLX  GOOG\n",
              "date                            \n",
              "2018-04-30 NaN   NaN   NaN   NaN"
            ]
          },
          "metadata": {
            "tags": []
          },
          "execution_count": 92
        }
      ]
    },
    {
      "metadata": {
        "id": "YusriZbll0OW",
        "colab_type": "code",
        "colab": {
          "base_uri": "https://localhost:8080/",
          "height": 142
        },
        "outputId": "8536b330-e458-4862-849b-87f82d38bda1"
      },
      "cell_type": "code",
      "source": [
        "rets.head(2)\n",
        "#check for log returns \n",
        "#for NFLX the simple return 0.012165\n",
        "#log returns are lower when positive and higher when negative (until infinite)\n",
        "#they're also symmetrical"
      ],
      "execution_count": 93,
      "outputs": [
        {
          "output_type": "execute_result",
          "data": {
            "text/html": [
              "<div>\n",
              "<style scoped>\n",
              "    .dataframe tbody tr th:only-of-type {\n",
              "        vertical-align: middle;\n",
              "    }\n",
              "\n",
              "    .dataframe tbody tr th {\n",
              "        vertical-align: top;\n",
              "    }\n",
              "\n",
              "    .dataframe thead th {\n",
              "        text-align: right;\n",
              "    }\n",
              "</style>\n",
              "<table border=\"1\" class=\"dataframe\">\n",
              "  <thead>\n",
              "    <tr style=\"text-align: right;\">\n",
              "      <th></th>\n",
              "      <th>FB</th>\n",
              "      <th>AAPL</th>\n",
              "      <th>NFLX</th>\n",
              "      <th>GOOG</th>\n",
              "    </tr>\n",
              "    <tr>\n",
              "      <th>date</th>\n",
              "      <th></th>\n",
              "      <th></th>\n",
              "      <th></th>\n",
              "      <th></th>\n",
              "    </tr>\n",
              "  </thead>\n",
              "  <tbody>\n",
              "    <tr>\n",
              "      <th>2018-04-30</th>\n",
              "      <td>NaN</td>\n",
              "      <td>NaN</td>\n",
              "      <td>NaN</td>\n",
              "      <td>NaN</td>\n",
              "    </tr>\n",
              "    <tr>\n",
              "      <th>2018-05-01</th>\n",
              "      <td>0.010756</td>\n",
              "      <td>0.02297</td>\n",
              "      <td>0.002685</td>\n",
              "      <td>0.019449</td>\n",
              "    </tr>\n",
              "  </tbody>\n",
              "</table>\n",
              "</div>"
            ],
            "text/plain": [
              "                  FB     AAPL      NFLX      GOOG\n",
              "date                                             \n",
              "2018-04-30       NaN      NaN       NaN       NaN\n",
              "2018-05-01  0.010756  0.02297  0.002685  0.019449"
            ]
          },
          "metadata": {
            "tags": []
          },
          "execution_count": 93
        }
      ]
    },
    {
      "metadata": {
        "id": "_8HZGhZSl5R2",
        "colab_type": "code",
        "colab": {
          "base_uri": "https://localhost:8080/",
          "height": 142
        },
        "outputId": "2914125a-012f-4764-da4e-a6397347ecd6"
      },
      "cell_type": "code",
      "source": [
        "data.head(2)"
      ],
      "execution_count": 94,
      "outputs": [
        {
          "output_type": "execute_result",
          "data": {
            "text/html": [
              "<div>\n",
              "<style scoped>\n",
              "    .dataframe tbody tr th:only-of-type {\n",
              "        vertical-align: middle;\n",
              "    }\n",
              "\n",
              "    .dataframe tbody tr th {\n",
              "        vertical-align: top;\n",
              "    }\n",
              "\n",
              "    .dataframe thead th {\n",
              "        text-align: right;\n",
              "    }\n",
              "</style>\n",
              "<table border=\"1\" class=\"dataframe\">\n",
              "  <thead>\n",
              "    <tr style=\"text-align: right;\">\n",
              "      <th></th>\n",
              "      <th>FB</th>\n",
              "      <th>AAPL</th>\n",
              "      <th>NFLX</th>\n",
              "      <th>GOOG</th>\n",
              "    </tr>\n",
              "    <tr>\n",
              "      <th>date</th>\n",
              "      <th></th>\n",
              "      <th></th>\n",
              "      <th></th>\n",
              "      <th></th>\n",
              "    </tr>\n",
              "  </thead>\n",
              "  <tbody>\n",
              "    <tr>\n",
              "      <th>2018-04-30</th>\n",
              "      <td>172.00</td>\n",
              "      <td>164.0499</td>\n",
              "      <td>312.46</td>\n",
              "      <td>1017.33</td>\n",
              "    </tr>\n",
              "    <tr>\n",
              "      <th>2018-05-01</th>\n",
              "      <td>173.86</td>\n",
              "      <td>167.8618</td>\n",
              "      <td>313.30</td>\n",
              "      <td>1037.31</td>\n",
              "    </tr>\n",
              "  </tbody>\n",
              "</table>\n",
              "</div>"
            ],
            "text/plain": [
              "                FB      AAPL    NFLX     GOOG\n",
              "date                                         \n",
              "2018-04-30  172.00  164.0499  312.46  1017.33\n",
              "2018-05-01  173.86  167.8618  313.30  1037.31"
            ]
          },
          "metadata": {
            "tags": []
          },
          "execution_count": 94
        }
      ]
    },
    {
      "metadata": {
        "id": "JgUFuzQBumpQ",
        "colab_type": "code",
        "colab": {
          "base_uri": "https://localhost:8080/",
          "height": 1088
        },
        "outputId": "9d590ea2-def4-4c08-a5ad-f0039bf60731"
      },
      "cell_type": "code",
      "source": [
        "rets['NFLX']"
      ],
      "execution_count": 95,
      "outputs": [
        {
          "output_type": "execute_result",
          "data": {
            "text/plain": [
              "date\n",
              "2018-04-30         NaN\n",
              "2018-05-01    0.002685\n",
              "2018-05-02    0.000191\n",
              "2018-05-03   -0.005344\n",
              "2018-05-04    0.026593\n",
              "2018-05-07    0.019092\n",
              "2018-05-08    0.001929\n",
              "2018-05-09    0.010378\n",
              "2018-05-10   -0.002122\n",
              "2018-05-11   -0.009572\n",
              "2018-05-14    0.006321\n",
              "2018-05-15   -0.007332\n",
              "2018-05-16    0.006297\n",
              "2018-05-17   -0.009091\n",
              "2018-05-18   -0.003203\n",
              "2018-05-21    0.023294\n",
              "2018-05-22   -0.000603\n",
              "2018-05-23    0.038743\n",
              "2018-05-24    0.013170\n",
              "2018-05-25    0.005710\n",
              "2018-05-29   -0.004451\n",
              "2018-05-30    0.010835\n",
              "2018-05-31   -0.005502\n",
              "2018-06-01    0.023415\n",
              "2018-06-04    0.005210\n",
              "2018-06-05    0.010968\n",
              "2018-06-06    0.004501\n",
              "2018-06-07   -0.016602\n",
              "2018-06-08   -0.002299\n",
              "2018-06-11    0.002438\n",
              "                ...   \n",
              "2018-08-22    0.018815\n",
              "2018-08-23   -0.015418\n",
              "2018-08-24    0.056319\n",
              "2018-08-27    0.015925\n",
              "2018-08-28    0.010668\n",
              "2018-08-29   -0.001222\n",
              "2018-08-30    0.007957\n",
              "2018-08-31   -0.008935\n",
              "2018-09-04   -0.011159\n",
              "2018-09-05   -0.063644\n",
              "2018-09-06    0.015357\n",
              "2018-09-07    0.006387\n",
              "2018-09-10   -0.000775\n",
              "2018-09-11    0.021354\n",
              "2018-09-12    0.038634\n",
              "2018-09-13   -0.004877\n",
              "2018-09-14   -0.009799\n",
              "2018-09-17   -0.039758\n",
              "2018-09-18    0.048199\n",
              "2018-09-19   -0.001879\n",
              "2018-09-20   -0.004370\n",
              "2018-09-21   -0.011479\n",
              "2018-09-24    0.023044\n",
              "2018-09-25   -0.000487\n",
              "2018-09-26    0.022615\n",
              "2018-09-27    0.007461\n",
              "2018-09-28   -0.017435\n",
              "2018-10-01    0.019324\n",
              "2018-10-02   -0.011311\n",
              "2018-10-03   -0.000239\n",
              "Name: NFLX, Length: 110, dtype: float64"
            ]
          },
          "metadata": {
            "tags": []
          },
          "execution_count": 95
        }
      ]
    },
    {
      "metadata": {
        "id": "dah941iP94np",
        "colab_type": "code",
        "colab": {
          "base_uri": "https://localhost:8080/",
          "height": 102
        },
        "outputId": "d7d56852-c9b2-4e4b-a754-0044bdfe7f00"
      },
      "cell_type": "code",
      "source": [
        "rets.mean() * 252\n",
        "#simple arithmetic mean "
      ],
      "execution_count": 97,
      "outputs": [
        {
          "output_type": "execute_result",
          "data": {
            "text/plain": [
              "FB     -0.132352\n",
              "AAPL    0.801934\n",
              "NFLX    0.434414\n",
              "GOOG    0.387468\n",
              "dtype: float64"
            ]
          },
          "metadata": {
            "tags": []
          },
          "execution_count": 97
        }
      ]
    },
    {
      "metadata": {
        "id": "mnLjUm13-76Z",
        "colab_type": "code",
        "colab": {
          "base_uri": "https://localhost:8080/",
          "height": 173
        },
        "outputId": "4588d6a0-b389-4e21-ce91-1cefa25d98f1"
      },
      "cell_type": "code",
      "source": [
        "rets.cov()*252\n",
        "#covariance happens on the daily\n",
        "#there are copies of figures AAPL & NFLX = NFLX & AAPL"
      ],
      "execution_count": 98,
      "outputs": [
        {
          "output_type": "execute_result",
          "data": {
            "text/html": [
              "<div>\n",
              "<style scoped>\n",
              "    .dataframe tbody tr th:only-of-type {\n",
              "        vertical-align: middle;\n",
              "    }\n",
              "\n",
              "    .dataframe tbody tr th {\n",
              "        vertical-align: top;\n",
              "    }\n",
              "\n",
              "    .dataframe thead th {\n",
              "        text-align: right;\n",
              "    }\n",
              "</style>\n",
              "<table border=\"1\" class=\"dataframe\">\n",
              "  <thead>\n",
              "    <tr style=\"text-align: right;\">\n",
              "      <th></th>\n",
              "      <th>FB</th>\n",
              "      <th>AAPL</th>\n",
              "      <th>NFLX</th>\n",
              "      <th>GOOG</th>\n",
              "    </tr>\n",
              "  </thead>\n",
              "  <tbody>\n",
              "    <tr>\n",
              "      <th>FB</th>\n",
              "      <td>0.152227</td>\n",
              "      <td>0.018621</td>\n",
              "      <td>0.032380</td>\n",
              "      <td>0.025445</td>\n",
              "    </tr>\n",
              "    <tr>\n",
              "      <th>AAPL</th>\n",
              "      <td>0.018621</td>\n",
              "      <td>0.038554</td>\n",
              "      <td>0.013857</td>\n",
              "      <td>0.016067</td>\n",
              "    </tr>\n",
              "    <tr>\n",
              "      <th>NFLX</th>\n",
              "      <td>0.032380</td>\n",
              "      <td>0.013857</td>\n",
              "      <td>0.120590</td>\n",
              "      <td>0.024048</td>\n",
              "    </tr>\n",
              "    <tr>\n",
              "      <th>GOOG</th>\n",
              "      <td>0.025445</td>\n",
              "      <td>0.016067</td>\n",
              "      <td>0.024048</td>\n",
              "      <td>0.035761</td>\n",
              "    </tr>\n",
              "  </tbody>\n",
              "</table>\n",
              "</div>"
            ],
            "text/plain": [
              "            FB      AAPL      NFLX      GOOG\n",
              "FB    0.152227  0.018621  0.032380  0.025445\n",
              "AAPL  0.018621  0.038554  0.013857  0.016067\n",
              "NFLX  0.032380  0.013857  0.120590  0.024048\n",
              "GOOG  0.025445  0.016067  0.024048  0.035761"
            ]
          },
          "metadata": {
            "tags": []
          },
          "execution_count": 98
        }
      ]
    },
    {
      "metadata": {
        "id": "u5yiDN7n_Qng",
        "colab_type": "code",
        "colab": {
          "base_uri": "https://localhost:8080/",
          "height": 34
        },
        "outputId": "e8c30a27-737b-4973-ce69-cb3275ec1d3f"
      },
      "cell_type": "code",
      "source": [
        "weights = np.random.random(noa)\n",
        "weights /= np.sum(weights)\n",
        "#new numpy array of 4 random number that add up to 1\n",
        "#second line assures weight are equal to 1\n",
        "weights"
      ],
      "execution_count": 99,
      "outputs": [
        {
          "output_type": "execute_result",
          "data": {
            "text/plain": [
              "array([0.24144498, 0.32784422, 0.03479209, 0.39591872])"
            ]
          },
          "metadata": {
            "tags": []
          },
          "execution_count": 99
        }
      ]
    },
    {
      "metadata": {
        "id": "VjylKfFWrJPa",
        "colab_type": "code",
        "colab": {
          "base_uri": "https://localhost:8080/",
          "height": 34
        },
        "outputId": "dbc321bd-3a21-4369-fb3a-52cfd394fd89"
      },
      "cell_type": "code",
      "source": [
        "np.sum(rets.mean() * weights) * 252\n",
        "#using FANG Sept 2018 returns if FB is a high weighting, low returns, NFLX high weighting, higher returns"
      ],
      "execution_count": 100,
      "outputs": [
        {
          "output_type": "execute_result",
          "data": {
            "text/plain": [
              "0.39947392285507394"
            ]
          },
          "metadata": {
            "tags": []
          },
          "execution_count": 100
        }
      ]
    },
    {
      "metadata": {
        "id": "a-fdrxTUixl5",
        "colab_type": "code",
        "colab": {
          "base_uri": "https://localhost:8080/",
          "height": 34
        },
        "outputId": "ecb94c18-17ee-4135-ae60-9b73b1ae4cfd"
      },
      "cell_type": "code",
      "source": [
        "np.dot(weights.T, np.dot(rets.cov() * 252, weights))\n",
        "#rets is a pandas dataframe, weights is a numpy array \n",
        "#in order to work the size of the two arrays need to be equal \n",
        "#this only works with a dot in a dot which is a numpy array"
      ],
      "execution_count": 116,
      "outputs": [
        {
          "output_type": "execute_result",
          "data": {
            "text/plain": [
              "0.032275605534023345"
            ]
          },
          "metadata": {
            "tags": []
          },
          "execution_count": 116
        }
      ]
    },
    {
      "metadata": {
        "id": "iUrwUstKjN3K",
        "colab_type": "code",
        "colab": {
          "base_uri": "https://localhost:8080/",
          "height": 34
        },
        "outputId": "22eeee36-13b3-4436-bdcd-0affc2fecf33"
      },
      "cell_type": "code",
      "source": [
        "np.sqrt(np.dot(weights.T, np.dot(rets.cov() * 252, weights)))\n"
      ],
      "execution_count": 117,
      "outputs": [
        {
          "output_type": "execute_result",
          "data": {
            "text/plain": [
              "0.1796541275173586"
            ]
          },
          "metadata": {
            "tags": []
          },
          "execution_count": 117
        }
      ]
    },
    {
      "metadata": {
        "id": "-dUzU6Orjzgv",
        "colab_type": "code",
        "colab": {}
      },
      "cell_type": "code",
      "source": [
        "prets = []\n",
        "pvols = []\n",
        "#prets and vols are np.arrays\n",
        "for p in range (500):\n",
        " #loop underlines number of iterations\n",
        " weights = np.random.random(noa)\n",
        " weights /= np.sum(weights)\n",
        " #this makes it equal to 1\n",
        " prets.append(np.sum(rets.mean() * weights) * 252)\n",
        " #i get a value for each loop\n",
        " pvols.append(np.sqrt(np.dot(weights.T, np.dot(rets.cov() * 252, weights))))\n",
        "  #covariance value for each loop\n",
        "\n",
        "prets = np.array(prets)\n",
        "pvols = np.array(pvols)\n",
        "#turns prets and pvols from lists into numpy arrays"
      ],
      "execution_count": 0,
      "outputs": []
    },
    {
      "metadata": {
        "id": "SYmBWiZ4j3P-",
        "colab_type": "code",
        "colab": {
          "base_uri": "https://localhost:8080/",
          "height": 351
        },
        "outputId": "d65fa8ab-cf84-4c2b-f053-eea6eb738358"
      },
      "cell_type": "code",
      "source": [
        "plt.figure(figsize=(8, 5))\n",
        "plt.scatter(pvols, prets, c = prets / pvols, marker='|')\n",
        "# c is a calculated column of a sharpe ratio minus a risk free rate\n",
        "# x-axis, y-axis, marker allows me to change the point style\n",
        "plt.grid(True)\n",
        "plt.xlabel('expected volatility')\n",
        "plt.ylabel('expected return')\n",
        "plt.colorbar(label='Sharpe ratio')"
      ],
      "execution_count": 169,
      "outputs": [
        {
          "output_type": "execute_result",
          "data": {
            "text/plain": [
              "<matplotlib.colorbar.Colorbar at 0x7f2b4f089518>"
            ]
          },
          "metadata": {
            "tags": []
          },
          "execution_count": 169
        },
        {
          "output_type": "display_data",
          "data": {
            "image/png": "[encoded data removed]",
            "text/plain": [
              "<matplotlib.figure.Figure at 0x7f2b4f0fd438>"
            ]
          },
          "metadata": {
            "tags": []
          }
        }
      ]
    },
    {
      "metadata": {
        "id": "n0IWLkPEj8zo",
        "colab_type": "code",
        "colab": {}
      },
      "cell_type": "code",
      "source": [
        "palt?"
      ],
      "execution_count": 0,
      "outputs": []
    },
    {
      "metadata": {
        "id": "0hY-n2-Alh9L",
        "colab_type": "code",
        "colab": {}
      },
      "cell_type": "code",
      "source": [
        "x = np.array([[-1,-1], [1,1],]).T"
      ],
      "execution_count": 0,
      "outputs": []
    },
    {
      "metadata": {
        "id": "HdlOXI9yxZft",
        "colab_type": "code",
        "colab": {
          "base_uri": "https://localhost:8080/",
          "height": 51
        },
        "outputId": "3e3d9127-b4ba-4264-d0d2-19dd061e8ae9"
      },
      "cell_type": "code",
      "source": [
        "np.cov(x)\n",
        "#think about deviations from the mean, eg 2 data with identical values will have covariance of 0\n",
        "#the size of matrix will lead to the number of covariances, eg. 2 will be 4, 4 will be 16\n",
        "#correlation is scaled covariance"
      ],
      "execution_count": 0,
      "outputs": [
        {
          "output_type": "execute_result",
          "data": {
            "text/plain": [
              "array([[2., 2.],\n",
              "       [2., 2.]])"
            ]
          },
          "metadata": {
            "tags": []
          },
          "execution_count": 107
        }
      ]
    },
    {
      "metadata": {
        "id": "p33cGJ5oxb6t",
        "colab_type": "code",
        "colab": {
          "base_uri": "https://localhost:8080/",
          "height": 163
        },
        "outputId": "98c1958e-b3ae-44d0-f8fe-722a9e68fb95"
      },
      "cell_type": "code",
      "source": [
        "rets.shape()"
      ],
      "execution_count": 0,
      "outputs": [
        {
          "output_type": "error",
          "ename": "TypeError",
          "evalue": "ignored",
          "traceback": [
            "\u001b[0;31m---------------------------------------------------------------------------\u001b[0m",
            "\u001b[0;31mTypeError\u001b[0m                                 Traceback (most recent call last)",
            "\u001b[0;32m<ipython-input-40-9468df2b193f>\u001b[0m in \u001b[0;36m<module>\u001b[0;34m()\u001b[0m\n\u001b[0;32m----> 1\u001b[0;31m \u001b[0mrets\u001b[0m\u001b[0;34m.\u001b[0m\u001b[0mshape\u001b[0m\u001b[0;34m(\u001b[0m\u001b[0;34m)\u001b[0m\u001b[0;34m\u001b[0m\u001b[0m\n\u001b[0m",
            "\u001b[0;31mTypeError\u001b[0m: 'tuple' object is not callable"
          ]
        }
      ]
    },
    {
      "metadata": {
        "id": "eu9F4W6TXLpu",
        "colab_type": "code",
        "colab": {}
      },
      "cell_type": "code",
      "source": [
        "x/"
      ],
      "execution_count": 0,
      "outputs": []
    }
  ]
}