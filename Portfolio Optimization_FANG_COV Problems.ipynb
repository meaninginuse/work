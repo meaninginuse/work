{
  "nbformat": 4,
  "nbformat_minor": 0,
  "metadata": {
    "colab": {
      "name": "Pandas_Datareader IEX",
      "version": "0.3.2",
      "provenance": [],
      "collapsed_sections": [],
      "include_colab_link": true
    },
    "kernelspec": {
      "name": "python3",
      "display_name": "Python 3"
    }
  },
  "cells": [
    {
      "cell_type": "markdown",
      "metadata": {
        "id": "view-in-github",
        "colab_type": "text"
      },
      "source": [
        "[View in Colaboratory](https://colab.research.google.com/github/meaninginuse/work/blob/master/Portfolio%20Optimization_FANG_COV%20Problems.ipynb)"
      ]
    },
    {
      "metadata": {
        "id": "M7YMMace6T8e",
        "colab_type": "code",
        "colab": {}
      },
      "cell_type": "code",
      "source": [
        "import numpy as np\n",
        "import pandas as pd\n",
        "import datetime\n",
        "import matplotlib.pyplot as plt\n",
        "#pyplot had to be imported"
      ],
      "execution_count": 0,
      "outputs": []
    },
    {
      "metadata": {
        "id": "JOdGbXngVOWh",
        "colab_type": "code",
        "colab": {}
      },
      "cell_type": "code",
      "source": [
        "!pip install -q pandas_datareader\n",
        "import pandas_datareader as web\n",
        "#install package each time - can't call pandas directly"
      ],
      "execution_count": 0,
      "outputs": []
    },
    {
      "metadata": {
        "id": "xfI7VU7Fdp-8",
        "colab_type": "code",
        "colab": {
          "base_uri": "https://localhost:8080/",
          "height": 34
        },
        "outputId": "36cf7d54-295c-4a5e-fc52-97ddf257fa64"
      },
      "cell_type": "code",
      "source": [
        "symbols = ['FB', 'AAPL', 'NFLX', 'GOOG']\n",
        "noa = len(symbols)\n",
        "# this is a list that will then be looped for a dataframe"
      ],
      "execution_count": 4,
      "outputs": [
        {
          "output_type": "execute_result",
          "data": {
            "text/plain": [
              "list"
            ]
          },
          "metadata": {
            "tags": []
          },
          "execution_count": 4
        }
      ]
    },
    {
      "metadata": {
        "id": "Vz8DSype6Zqe",
        "colab_type": "code",
        "colab": {}
      },
      "cell_type": "code",
      "source": [
        "start = datetime.datetime(2018, 9, 2)\n",
        "#datetime for pulling quotes"
      ],
      "execution_count": 0,
      "outputs": []
    },
    {
      "metadata": {
        "id": "4jre3nil6bjR",
        "colab_type": "code",
        "colab": {}
      },
      "cell_type": "code",
      "source": [
        "end = datetime.datetime(2018, 10, 3)"
      ],
      "execution_count": 0,
      "outputs": []
    },
    {
      "metadata": {
        "id": "HpmSE1KV6dJ6",
        "colab_type": "code",
        "colab": {
          "base_uri": "https://localhost:8080/",
          "height": 111
        },
        "outputId": "c91339b2-aa4f-4451-ce4e-b18620b6b692"
      },
      "cell_type": "code",
      "source": [
        "f = web.DataReader('GOOG', 'iex', start, end)\n",
        "f.head(1)\n",
        "#check if the Datareader is working"
      ],
      "execution_count": 49,
      "outputs": [
        {
          "output_type": "execute_result",
          "data": {
            "text/html": [
              "<div>\n",
              "<style scoped>\n",
              "    .dataframe tbody tr th:only-of-type {\n",
              "        vertical-align: middle;\n",
              "    }\n",
              "\n",
              "    .dataframe tbody tr th {\n",
              "        vertical-align: top;\n",
              "    }\n",
              "\n",
              "    .dataframe thead th {\n",
              "        text-align: right;\n",
              "    }\n",
              "</style>\n",
              "<table border=\"1\" class=\"dataframe\">\n",
              "  <thead>\n",
              "    <tr style=\"text-align: right;\">\n",
              "      <th></th>\n",
              "      <th>open</th>\n",
              "      <th>high</th>\n",
              "      <th>low</th>\n",
              "      <th>close</th>\n",
              "      <th>volume</th>\n",
              "    </tr>\n",
              "    <tr>\n",
              "      <th>date</th>\n",
              "      <th></th>\n",
              "      <th></th>\n",
              "      <th></th>\n",
              "      <th></th>\n",
              "      <th></th>\n",
              "    </tr>\n",
              "  </thead>\n",
              "  <tbody>\n",
              "    <tr>\n",
              "      <th>2018-09-04</th>\n",
              "      <td>1204.27</td>\n",
              "      <td>1212.99</td>\n",
              "      <td>1192.5</td>\n",
              "      <td>1197.0</td>\n",
              "      <td>1831045</td>\n",
              "    </tr>\n",
              "  </tbody>\n",
              "</table>\n",
              "</div>"
            ],
            "text/plain": [
              "               open     high     low   close   volume\n",
              "date                                                 \n",
              "2018-09-04  1204.27  1212.99  1192.5  1197.0  1831045"
            ]
          },
          "metadata": {
            "tags": []
          },
          "execution_count": 49
        }
      ]
    },
    {
      "metadata": {
        "id": "EjNRkqbZ6efM",
        "colab_type": "code",
        "colab": {
          "base_uri": "https://localhost:8080/",
          "height": 111
        },
        "outputId": "914fcb04-49b7-4cb6-9d4f-6f5830e7cb57"
      },
      "cell_type": "code",
      "source": [
        "data = pd.DataFrame()\n",
        "for sym in symbols:\n",
        " data[sym] = web.DataReader(sym, data_source='iex', start=start, end=end)['close']\n",
        "data.columns = symbols\n",
        "#loop that creates a dataframe\n",
        "data.head(1)"
      ],
      "execution_count": 50,
      "outputs": [
        {
          "output_type": "execute_result",
          "data": {
            "text/html": [
              "<div>\n",
              "<style scoped>\n",
              "    .dataframe tbody tr th:only-of-type {\n",
              "        vertical-align: middle;\n",
              "    }\n",
              "\n",
              "    .dataframe tbody tr th {\n",
              "        vertical-align: top;\n",
              "    }\n",
              "\n",
              "    .dataframe thead th {\n",
              "        text-align: right;\n",
              "    }\n",
              "</style>\n",
              "<table border=\"1\" class=\"dataframe\">\n",
              "  <thead>\n",
              "    <tr style=\"text-align: right;\">\n",
              "      <th></th>\n",
              "      <th>FB</th>\n",
              "      <th>AAPL</th>\n",
              "      <th>NFLX</th>\n",
              "      <th>GOOG</th>\n",
              "    </tr>\n",
              "    <tr>\n",
              "      <th>date</th>\n",
              "      <th></th>\n",
              "      <th></th>\n",
              "      <th></th>\n",
              "      <th></th>\n",
              "    </tr>\n",
              "  </thead>\n",
              "  <tbody>\n",
              "    <tr>\n",
              "      <th>2018-09-04</th>\n",
              "      <td>171.16</td>\n",
              "      <td>228.36</td>\n",
              "      <td>363.6</td>\n",
              "      <td>1197.0</td>\n",
              "    </tr>\n",
              "  </tbody>\n",
              "</table>\n",
              "</div>"
            ],
            "text/plain": [
              "                FB    AAPL   NFLX    GOOG\n",
              "date                                     \n",
              "2018-09-04  171.16  228.36  363.6  1197.0"
            ]
          },
          "metadata": {
            "tags": []
          },
          "execution_count": 50
        }
      ]
    },
    {
      "metadata": {
        "id": "pV6nNktl60d_",
        "colab_type": "code",
        "colab": {
          "base_uri": "https://localhost:8080/",
          "height": 648
        },
        "outputId": "94596512-78e4-4fbb-ba1b-fb6f013993db"
      },
      "cell_type": "code",
      "source": [
        "(data / data.iloc[0] * 100).plot(figsize=(12, 5))\n",
        "(data).plot(figsize=(12, 5))\n",
        "#ix is depreciated, replaced by iloc\n",
        "#this normals the data to a zero base\n"
      ],
      "execution_count": 51,
      "outputs": [
        {
          "output_type": "execute_result",
          "data": {
            "text/plain": [
              "<matplotlib.axes._subplots.AxesSubplot at 0x7fdfc003b978>"
            ]
          },
          "metadata": {
            "tags": []
          },
          "execution_count": 51
        },
        {
          "output_type": "display_data",
          "data": {
            "image/png": "[encoded data removed]",
            "text/plain": [
              "<matplotlib.figure.Figure at 0x7fdfc00c1ba8>"
            ]
          },
          "metadata": {
            "tags": []
          }
        },
        {
          "output_type": "display_data",
          "data": {
            "image/png": "[encoded data removed]",
            "text/plain": [
              "<matplotlib.figure.Figure at 0x7fdfc0091518>"
            ]
          },
          "metadata": {
            "tags": []
          }
        }
      ]
    },
    {
      "metadata": {
        "id": "zY51EX9v8WCH",
        "colab_type": "code",
        "colab": {
          "base_uri": "https://localhost:8080/",
          "height": 264
        },
        "outputId": "6c593f7f-744f-4da1-fe7a-6376f6413232"
      },
      "cell_type": "code",
      "source": [
        "rets = np.log(data / data.shift(1))\n",
        "#new column for returns based on position above\n",
        "#this uses log returns\n",
        "rets.info()\n",
        "#info show that the dataframe is empty for the first column, there's no shift down\n",
        "rets.head(1)\n"
      ],
      "execution_count": 82,
      "outputs": [
        {
          "output_type": "stream",
          "text": [
            "<class 'pandas.core.frame.DataFrame'>\n",
            "Index: 22 entries, 2018-09-04 to 2018-10-03\n",
            "Data columns (total 4 columns):\n",
            "FB      21 non-null float64\n",
            "AAPL    21 non-null float64\n",
            "NFLX    21 non-null float64\n",
            "GOOG    21 non-null float64\n",
            "dtypes: float64(4)\n",
            "memory usage: 1.5+ KB\n"
          ],
          "name": "stdout"
        },
        {
          "output_type": "execute_result",
          "data": {
            "text/html": [
              "<div>\n",
              "<style scoped>\n",
              "    .dataframe tbody tr th:only-of-type {\n",
              "        vertical-align: middle;\n",
              "    }\n",
              "\n",
              "    .dataframe tbody tr th {\n",
              "        vertical-align: top;\n",
              "    }\n",
              "\n",
              "    .dataframe thead th {\n",
              "        text-align: right;\n",
              "    }\n",
              "</style>\n",
              "<table border=\"1\" class=\"dataframe\">\n",
              "  <thead>\n",
              "    <tr style=\"text-align: right;\">\n",
              "      <th></th>\n",
              "      <th>FB</th>\n",
              "      <th>AAPL</th>\n",
              "      <th>NFLX</th>\n",
              "      <th>GOOG</th>\n",
              "    </tr>\n",
              "    <tr>\n",
              "      <th>date</th>\n",
              "      <th></th>\n",
              "      <th></th>\n",
              "      <th></th>\n",
              "      <th></th>\n",
              "    </tr>\n",
              "  </thead>\n",
              "  <tbody>\n",
              "    <tr>\n",
              "      <th>2018-09-04</th>\n",
              "      <td>NaN</td>\n",
              "      <td>NaN</td>\n",
              "      <td>NaN</td>\n",
              "      <td>NaN</td>\n",
              "    </tr>\n",
              "  </tbody>\n",
              "</table>\n",
              "</div>"
            ],
            "text/plain": [
              "            FB  AAPL  NFLX  GOOG\n",
              "date                            \n",
              "2018-09-04 NaN   NaN   NaN   NaN"
            ]
          },
          "metadata": {
            "tags": []
          },
          "execution_count": 82
        }
      ]
    },
    {
      "metadata": {
        "id": "YusriZbll0OW",
        "colab_type": "code",
        "colab": {
          "base_uri": "https://localhost:8080/",
          "height": 142
        },
        "outputId": "475a9a6f-2c34-4b14-a4fb-ea30bd59cbb9"
      },
      "cell_type": "code",
      "source": [
        "rets.head(2)\n",
        "#check for log returns \n",
        "#for NFLX the simple return 0.012165\n",
        "#log returns are lower when positive and higher when negative (until infinite)\n",
        "#they're also symmetrical"
      ],
      "execution_count": 54,
      "outputs": [
        {
          "output_type": "execute_result",
          "data": {
            "text/html": [
              "<div>\n",
              "<style scoped>\n",
              "    .dataframe tbody tr th:only-of-type {\n",
              "        vertical-align: middle;\n",
              "    }\n",
              "\n",
              "    .dataframe tbody tr th {\n",
              "        vertical-align: top;\n",
              "    }\n",
              "\n",
              "    .dataframe thead th {\n",
              "        text-align: right;\n",
              "    }\n",
              "</style>\n",
              "<table border=\"1\" class=\"dataframe\">\n",
              "  <thead>\n",
              "    <tr style=\"text-align: right;\">\n",
              "      <th></th>\n",
              "      <th>FB</th>\n",
              "      <th>AAPL</th>\n",
              "      <th>NFLX</th>\n",
              "      <th>GOOG</th>\n",
              "    </tr>\n",
              "    <tr>\n",
              "      <th>date</th>\n",
              "      <th></th>\n",
              "      <th></th>\n",
              "      <th></th>\n",
              "      <th></th>\n",
              "    </tr>\n",
              "  </thead>\n",
              "  <tbody>\n",
              "    <tr>\n",
              "      <th>2018-09-04</th>\n",
              "      <td>NaN</td>\n",
              "      <td>NaN</td>\n",
              "      <td>NaN</td>\n",
              "      <td>NaN</td>\n",
              "    </tr>\n",
              "    <tr>\n",
              "      <th>2018-09-05</th>\n",
              "      <td>-0.023528</td>\n",
              "      <td>-0.006546</td>\n",
              "      <td>-0.063644</td>\n",
              "      <td>-0.008827</td>\n",
              "    </tr>\n",
              "  </tbody>\n",
              "</table>\n",
              "</div>"
            ],
            "text/plain": [
              "                  FB      AAPL      NFLX      GOOG\n",
              "date                                              \n",
              "2018-09-04       NaN       NaN       NaN       NaN\n",
              "2018-09-05 -0.023528 -0.006546 -0.063644 -0.008827"
            ]
          },
          "metadata": {
            "tags": []
          },
          "execution_count": 54
        }
      ]
    },
    {
      "metadata": {
        "id": "_8HZGhZSl5R2",
        "colab_type": "code",
        "colab": {
          "base_uri": "https://localhost:8080/",
          "height": 142
        },
        "outputId": "7ebcc8d1-9285-4463-95ed-423745bb24cb"
      },
      "cell_type": "code",
      "source": [
        "data.head(2)"
      ],
      "execution_count": 55,
      "outputs": [
        {
          "output_type": "execute_result",
          "data": {
            "text/html": [
              "<div>\n",
              "<style scoped>\n",
              "    .dataframe tbody tr th:only-of-type {\n",
              "        vertical-align: middle;\n",
              "    }\n",
              "\n",
              "    .dataframe tbody tr th {\n",
              "        vertical-align: top;\n",
              "    }\n",
              "\n",
              "    .dataframe thead th {\n",
              "        text-align: right;\n",
              "    }\n",
              "</style>\n",
              "<table border=\"1\" class=\"dataframe\">\n",
              "  <thead>\n",
              "    <tr style=\"text-align: right;\">\n",
              "      <th></th>\n",
              "      <th>FB</th>\n",
              "      <th>AAPL</th>\n",
              "      <th>NFLX</th>\n",
              "      <th>GOOG</th>\n",
              "    </tr>\n",
              "    <tr>\n",
              "      <th>date</th>\n",
              "      <th></th>\n",
              "      <th></th>\n",
              "      <th></th>\n",
              "      <th></th>\n",
              "    </tr>\n",
              "  </thead>\n",
              "  <tbody>\n",
              "    <tr>\n",
              "      <th>2018-09-04</th>\n",
              "      <td>171.16</td>\n",
              "      <td>228.36</td>\n",
              "      <td>363.60</td>\n",
              "      <td>1197.00</td>\n",
              "    </tr>\n",
              "    <tr>\n",
              "      <th>2018-09-05</th>\n",
              "      <td>167.18</td>\n",
              "      <td>226.87</td>\n",
              "      <td>341.18</td>\n",
              "      <td>1186.48</td>\n",
              "    </tr>\n",
              "  </tbody>\n",
              "</table>\n",
              "</div>"
            ],
            "text/plain": [
              "                FB    AAPL    NFLX     GOOG\n",
              "date                                       \n",
              "2018-09-04  171.16  228.36  363.60  1197.00\n",
              "2018-09-05  167.18  226.87  341.18  1186.48"
            ]
          },
          "metadata": {
            "tags": []
          },
          "execution_count": 55
        }
      ]
    },
    {
      "metadata": {
        "id": "JgUFuzQBumpQ",
        "colab_type": "code",
        "colab": {
          "base_uri": "https://localhost:8080/",
          "height": 425
        },
        "outputId": "6fd44d0a-5915-47fa-c40d-08a943436429"
      },
      "cell_type": "code",
      "source": [
        "rets['NFLX']"
      ],
      "execution_count": 75,
      "outputs": [
        {
          "output_type": "execute_result",
          "data": {
            "text/plain": [
              "date\n",
              "2018-09-04         NaN\n",
              "2018-09-05   -0.063644\n",
              "2018-09-06    0.015357\n",
              "2018-09-07    0.006387\n",
              "2018-09-10   -0.000775\n",
              "2018-09-11    0.021354\n",
              "2018-09-12    0.038634\n",
              "2018-09-13   -0.004877\n",
              "2018-09-14   -0.009799\n",
              "2018-09-17   -0.039758\n",
              "2018-09-18    0.048199\n",
              "2018-09-19   -0.001879\n",
              "2018-09-20   -0.004370\n",
              "2018-09-21   -0.011479\n",
              "2018-09-24    0.023044\n",
              "2018-09-25   -0.000487\n",
              "2018-09-26    0.022615\n",
              "2018-09-27    0.007461\n",
              "2018-09-28   -0.017435\n",
              "2018-10-01    0.019324\n",
              "2018-10-02   -0.011311\n",
              "2018-10-03   -0.000239\n",
              "Name: NFLX, dtype: float64"
            ]
          },
          "metadata": {
            "tags": []
          },
          "execution_count": 75
        }
      ]
    },
    {
      "metadata": {
        "id": "dah941iP94np",
        "colab_type": "code",
        "colab": {
          "base_uri": "https://localhost:8080/",
          "height": 102
        },
        "outputId": "030f8299-afc6-4a56-a8cf-f8c18dc86ac6"
      },
      "cell_type": "code",
      "source": [
        "rets.mean() * 252\n",
        "#simple arithmetic mean "
      ],
      "execution_count": 64,
      "outputs": [
        {
          "output_type": "execute_result",
          "data": {
            "text/plain": [
              "FB     -0.628220\n",
              "AAPL    0.193389\n",
              "NFLX    0.435881\n",
              "GOOG    0.059501\n",
              "dtype: float64"
            ]
          },
          "metadata": {
            "tags": []
          },
          "execution_count": 64
        }
      ]
    },
    {
      "metadata": {
        "id": "mnLjUm13-76Z",
        "colab_type": "code",
        "colab": {
          "base_uri": "https://localhost:8080/",
          "height": 173
        },
        "outputId": "dae4b7ab-2d9d-457b-c98d-db73b77222f7"
      },
      "cell_type": "code",
      "source": [
        "rets.cov()*252\n",
        "#covariance happens on the daily"
      ],
      "execution_count": 88,
      "outputs": [
        {
          "output_type": "execute_result",
          "data": {
            "text/html": [
              "<div>\n",
              "<style scoped>\n",
              "    .dataframe tbody tr th:only-of-type {\n",
              "        vertical-align: middle;\n",
              "    }\n",
              "\n",
              "    .dataframe tbody tr th {\n",
              "        vertical-align: top;\n",
              "    }\n",
              "\n",
              "    .dataframe thead th {\n",
              "        text-align: right;\n",
              "    }\n",
              "</style>\n",
              "<table border=\"1\" class=\"dataframe\">\n",
              "  <thead>\n",
              "    <tr style=\"text-align: right;\">\n",
              "      <th></th>\n",
              "      <th>FB</th>\n",
              "      <th>AAPL</th>\n",
              "      <th>NFLX</th>\n",
              "      <th>GOOG</th>\n",
              "    </tr>\n",
              "  </thead>\n",
              "  <tbody>\n",
              "    <tr>\n",
              "      <th>FB</th>\n",
              "      <td>0.065649</td>\n",
              "      <td>0.022726</td>\n",
              "      <td>0.025507</td>\n",
              "      <td>0.024086</td>\n",
              "    </tr>\n",
              "    <tr>\n",
              "      <th>AAPL</th>\n",
              "      <td>0.022726</td>\n",
              "      <td>0.049753</td>\n",
              "      <td>0.020677</td>\n",
              "      <td>0.027756</td>\n",
              "    </tr>\n",
              "    <tr>\n",
              "      <th>NFLX</th>\n",
              "      <td>0.025507</td>\n",
              "      <td>0.020677</td>\n",
              "      <td>0.154922</td>\n",
              "      <td>0.013856</td>\n",
              "    </tr>\n",
              "    <tr>\n",
              "      <th>GOOG</th>\n",
              "      <td>0.024086</td>\n",
              "      <td>0.027756</td>\n",
              "      <td>0.013856</td>\n",
              "      <td>0.022136</td>\n",
              "    </tr>\n",
              "  </tbody>\n",
              "</table>\n",
              "</div>"
            ],
            "text/plain": [
              "            FB      AAPL      NFLX      GOOG\n",
              "FB    0.065649  0.022726  0.025507  0.024086\n",
              "AAPL  0.022726  0.049753  0.020677  0.027756\n",
              "NFLX  0.025507  0.020677  0.154922  0.013856\n",
              "GOOG  0.024086  0.027756  0.013856  0.022136"
            ]
          },
          "metadata": {
            "tags": []
          },
          "execution_count": 88
        }
      ]
    },
    {
      "metadata": {
        "id": "NPs6t_IU3CS8",
        "colab_type": "code",
        "colab": {
          "base_uri": "https://localhost:8080/",
          "height": 3009
        },
        "outputId": "4f06372e-dde7-47a8-8567-bb8b9142fff5"
      },
      "cell_type": "code",
      "source": [
        "np.cov(rets)"
      ],
      "execution_count": 89,
      "outputs": [
        {
          "output_type": "execute_result",
          "data": {
            "text/plain": [
              "array([[            nan,             nan,             nan,\n",
              "                    nan,             nan,             nan,\n",
              "                    nan,             nan,             nan,\n",
              "                    nan,             nan,             nan,\n",
              "                    nan,             nan,             nan,\n",
              "                    nan,             nan,             nan,\n",
              "                    nan,             nan,             nan,\n",
              "                    nan],\n",
              "       [            nan,  6.98671139e-04, -3.92501524e-04,\n",
              "        -1.61973289e-04, -7.21817521e-05, -4.32986692e-05,\n",
              "        -6.55499520e-04,  2.70849828e-04,  4.23109075e-05,\n",
              "         2.45096977e-04, -5.76362349e-04,  8.70105206e-05,\n",
              "         1.91189627e-04, -3.56554040e-05, -1.55608921e-04,\n",
              "         9.78715833e-05, -3.48483616e-04,  1.09597880e-04,\n",
              "         2.19227004e-04, -2.02172411e-04,  2.08478736e-04,\n",
              "         1.06777552e-04],\n",
              "       [            nan, -3.92501524e-04,  3.42131973e-04,\n",
              "         5.75827037e-05, -1.97308039e-05,  6.29286767e-05,\n",
              "         5.09931052e-04, -7.57214184e-05, -9.44087010e-05,\n",
              "        -2.14919589e-04,  4.20530084e-04, -1.23830796e-04,\n",
              "        -1.68666730e-04,  4.60486487e-05,  7.67732759e-05,\n",
              "        -6.33331626e-06,  1.42392077e-04, -5.19820735e-05,\n",
              "        -2.94859930e-06,  2.24813659e-04, -5.39435806e-06,\n",
              "        -1.41787073e-04],\n",
              "       [            nan, -1.61973289e-04,  5.75827037e-05,\n",
              "         4.79209881e-05,  3.97771219e-05, -7.34224253e-06,\n",
              "         1.10697477e-04, -9.00621581e-05,  1.44147281e-05,\n",
              "        -2.87196136e-05,  1.06492022e-04,  4.82338711e-06,\n",
              "        -2.39960070e-05, -2.25836677e-06,  3.52660748e-05,\n",
              "        -3.49415342e-05,  9.74860466e-05, -3.17570071e-05,\n",
              "        -8.67392913e-05,  1.25845244e-05, -8.20073907e-05,\n",
              "        -5.67195870e-06],\n",
              "       [            nan, -7.21817521e-05, -1.97308039e-05,\n",
              "         3.97771219e-05,  7.25821054e-05, -5.14928630e-05,\n",
              "        -1.52623123e-05, -9.99713168e-05,  5.68375928e-05,\n",
              "         5.03925853e-05,  8.59594692e-06,  5.21125089e-05,\n",
              "         2.96344813e-05, -2.75706260e-05,  1.06001666e-06,\n",
              "        -2.81794646e-05,  7.35142524e-05, -3.62698892e-05,\n",
              "        -9.79639844e-05, -5.45155204e-05, -9.31399761e-05,\n",
              "         1.10938010e-05],\n",
              "       [            nan, -4.32986692e-05,  6.29286767e-05,\n",
              "        -7.34224253e-06, -5.14928630e-05,  5.34254077e-05,\n",
              "         9.89303621e-05,  4.31143512e-05, -5.24195603e-05,\n",
              "        -7.88232008e-05,  6.95627974e-05, -5.42135971e-05,\n",
              "        -5.11731014e-05,  2.96524179e-05,  2.74693681e-05,\n",
              "         3.06077444e-06, -6.89852698e-06,  1.73540201e-05,\n",
              "         4.10127735e-05,  6.90186216e-05,  3.94993855e-05,\n",
              "        -1.33361285e-05],\n",
              "       [            nan, -6.55499520e-04,  5.09931052e-04,\n",
              "         1.10697477e-04, -1.52623123e-05,  9.89303621e-05,\n",
              "         7.84657660e-04, -1.52724227e-04, -1.31468620e-04,\n",
              "        -3.33470069e-04,  6.54523895e-04, -1.77615005e-04,\n",
              "        -2.57624437e-04,  7.04081469e-05,  1.40942239e-04,\n",
              "        -3.73430929e-05,  2.60766742e-04, -8.43435069e-05,\n",
              "        -5.99549573e-05,  3.26595937e-04, -5.95755365e-05,\n",
              "        -1.88796974e-04],\n",
              "       [            nan,  2.70849828e-04, -7.57214184e-05,\n",
              "        -9.00621581e-05, -9.99713168e-05,  4.31143512e-05,\n",
              "        -1.52724227e-04,  1.86035109e-04, -5.33398831e-05,\n",
              "         1.02568065e-05, -1.59733006e-04, -3.65497128e-05,\n",
              "         1.72103785e-05,  2.02926506e-05, -4.73795172e-05,\n",
              "         6.26673138e-05, -1.79337981e-04,  6.80530087e-05,\n",
              "         1.75758446e-04,  1.11456399e-05,  1.66735319e-04,\n",
              "         7.80591282e-06],\n",
              "       [            nan,  4.23109075e-05, -9.44087010e-05,\n",
              "         1.44147281e-05,  5.68375928e-05, -5.24195603e-05,\n",
              "        -1.31468620e-04, -5.33398831e-05,  6.30604998e-05,\n",
              "         8.75220151e-05, -9.33204086e-05,  6.66034587e-05,\n",
              "         6.12973340e-05, -3.09157940e-05, -1.83238541e-05,\n",
              "        -1.78352806e-05,  1.81149283e-05, -1.39417483e-05,\n",
              "        -6.82351128e-05, -9.19140010e-05, -6.43238827e-05,\n",
              "         4.02855567e-05],\n",
              "       [            nan,  2.45096977e-04, -2.14919589e-04,\n",
              "        -2.87196136e-05,  5.03925853e-05, -7.88232008e-05,\n",
              "        -3.33470069e-04,  1.02568065e-05,  8.75220151e-05,\n",
              "         1.74782219e-04, -2.66805779e-04,  1.03556998e-04,\n",
              "         1.26174698e-04, -4.85283749e-05, -6.93824885e-05,\n",
              "         9.86288539e-06, -7.66137004e-05,  1.09095417e-05,\n",
              "        -1.61360841e-05, -1.63084030e-04, -1.50414936e-05,\n",
              "         6.98364043e-05],\n",
              "       [            nan, -5.76362349e-04,  4.20530084e-04,\n",
              "         1.06492022e-04,  8.59594692e-06,  6.95627974e-05,\n",
              "         6.54523895e-04, -1.59733006e-04, -9.33204086e-05,\n",
              "        -2.66805779e-04,  5.52662877e-04, -1.33432146e-04,\n",
              "        -2.08065018e-04,  5.16722230e-05,  1.21631422e-04,\n",
              "        -4.25601847e-05,  2.44079974e-04, -8.10642033e-05,\n",
              "        -8.38989851e-05,  2.56980685e-04, -8.17381487e-05,\n",
              "        -1.51575902e-04],\n",
              "       [            nan,  8.70105206e-05, -1.23830796e-04,\n",
              "         4.82338711e-06,  5.21125089e-05, -5.42135971e-05,\n",
              "        -1.77615005e-04, -3.65497128e-05,  6.66034587e-05,\n",
              "         1.03556998e-04, -1.33432146e-04,  7.33017602e-05,\n",
              "         7.44894054e-05, -3.29505507e-05, -2.66106559e-05,\n",
              "        -1.36823722e-05, -2.99222760e-06, -5.98438888e-06,\n",
              "        -5.74679549e-05, -1.07500564e-04, -5.39124489e-05,\n",
              "         5.11880880e-05],\n",
              "       [            nan,  1.91189627e-04, -1.68666730e-04,\n",
              "        -2.39960070e-05,  2.96344813e-05, -5.11731014e-05,\n",
              "        -2.57624437e-04,  1.72103785e-05,  6.12973340e-05,\n",
              "         1.26174698e-04, -2.08065018e-04,  7.44894054e-05,\n",
              "         9.34416540e-05, -3.27708549e-05, -4.81735631e-05,\n",
              "         5.54179693e-06, -6.25092160e-05,  1.42615420e-05,\n",
              "        -9.04762672e-06, -1.22290962e-04, -7.98101166e-06,\n",
              "         6.04783852e-05],\n",
              "       [            nan, -3.56554040e-05,  4.60486487e-05,\n",
              "        -2.25836677e-06, -2.75706260e-05,  2.96524179e-05,\n",
              "         7.04081469e-05,  2.02926506e-05, -3.09157940e-05,\n",
              "        -4.85283749e-05,  5.16722230e-05, -3.29505507e-05,\n",
              "        -3.27708549e-05,  1.69477591e-05,  1.62333907e-05,\n",
              "         2.26439489e-06,  6.07242569e-07,  6.97653934e-06,\n",
              "         2.27234633e-05,  4.46712652e-05,  2.17129930e-05,\n",
              "        -1.33552229e-05],\n",
              "       [            nan, -1.55608921e-04,  7.67732759e-05,\n",
              "         3.52660748e-05,  1.06001666e-06,  2.74693681e-05,\n",
              "         1.40942239e-04, -4.73795172e-05, -1.83238541e-05,\n",
              "        -6.93824885e-05,  1.21631422e-04, -2.66106559e-05,\n",
              "        -4.81735631e-05,  1.62333907e-05,  4.72709331e-05,\n",
              "        -2.95346108e-05,  7.59218631e-05, -1.36230011e-05,\n",
              "        -5.02868983e-05,  4.69634287e-05, -4.68677815e-05,\n",
              "        -6.02066831e-06],\n",
              "       [            nan,  9.78715833e-05, -6.33331626e-06,\n",
              "        -3.49415342e-05, -2.81794646e-05,  3.06077444e-06,\n",
              "        -3.73430929e-05,  6.26673138e-05, -1.78352806e-05,\n",
              "         9.86288539e-06, -4.25601847e-05, -1.36823722e-05,\n",
              "         5.54179693e-06,  2.26439489e-06, -2.95346108e-05,\n",
              "         3.42044383e-05, -6.82717081e-05,  1.57256484e-05,\n",
              "         7.60923161e-05,  1.26954264e-05,  7.11091226e-05,\n",
              "        -2.09177487e-05],\n",
              "       [            nan, -3.48483616e-04,  1.42392077e-04,\n",
              "         9.74860466e-05,  7.35142524e-05, -6.89852698e-06,\n",
              "         2.60766742e-04, -1.79337981e-04,  1.81149283e-05,\n",
              "        -7.66137004e-05,  2.44079974e-04, -2.99222760e-06,\n",
              "        -6.25092160e-05,  6.07242569e-07,  7.59218631e-05,\n",
              "        -6.82717081e-05,  2.00711353e-04, -6.52074251e-05,\n",
              "        -1.67038589e-04,  4.56628696e-05, -1.58108270e-04,\n",
              "        -2.31348041e-05],\n",
              "       [            nan,  1.09597880e-04, -5.19820735e-05,\n",
              "        -3.17570071e-05, -3.62698892e-05,  1.73540201e-05,\n",
              "        -8.43435069e-05,  6.80530087e-05, -1.39417483e-05,\n",
              "         1.09095417e-05, -8.10642033e-05, -5.98438888e-06,\n",
              "         1.42615420e-05,  6.97653934e-06, -1.36230011e-05,\n",
              "         1.57256484e-05, -6.52074251e-05,  2.95183073e-05,\n",
              "         5.28823191e-05, -1.13303933e-05,  5.08088736e-05,\n",
              "         2.08524009e-05],\n",
              "       [            nan,  2.19227004e-04, -2.94859930e-06,\n",
              "        -8.67392913e-05, -9.79639844e-05,  4.10127735e-05,\n",
              "        -5.99549573e-05,  1.75758446e-04, -6.82351128e-05,\n",
              "        -1.61360841e-05, -8.38989851e-05, -5.74679549e-05,\n",
              "        -9.04762672e-06,  2.27234633e-05, -5.02868983e-05,\n",
              "         7.60923161e-05, -1.67038589e-04,  5.28823191e-05,\n",
              "         1.94619609e-04,  5.55508940e-05,  1.83081563e-04,\n",
              "        -3.91180292e-05],\n",
              "       [            nan, -2.02172411e-04,  2.24813659e-04,\n",
              "         1.25845244e-05, -5.45155204e-05,  6.90186216e-05,\n",
              "         3.26595937e-04,  1.11456399e-05, -9.19140010e-05,\n",
              "        -1.63084030e-04,  2.56980685e-04, -1.07500564e-04,\n",
              "        -1.22290962e-04,  4.46712652e-05,  4.69634287e-05,\n",
              "         1.26954264e-05,  4.56628696e-05, -1.13303933e-05,\n",
              "         5.55508940e-05,  1.71892016e-04,  5.11846442e-05,\n",
              "        -9.51167494e-05],\n",
              "       [            nan,  2.08478736e-04, -5.39435806e-06,\n",
              "        -8.20073907e-05, -9.31399761e-05,  3.94993855e-05,\n",
              "        -5.95755365e-05,  1.66735319e-04, -6.43238827e-05,\n",
              "        -1.50414936e-05, -8.17381487e-05, -5.39124489e-05,\n",
              "        -7.98101166e-06,  2.17129930e-05, -4.68677815e-05,\n",
              "         7.11091226e-05, -1.58108270e-04,  5.08088736e-05,\n",
              "         1.83081563e-04,  5.11846442e-05,  1.72307478e-04,\n",
              "        -3.47983380e-05],\n",
              "       [            nan,  1.06777552e-04, -1.41787073e-04,\n",
              "        -5.67195870e-06,  1.10938010e-05, -1.33361285e-05,\n",
              "        -1.88796974e-04,  7.80591282e-06,  4.02855567e-05,\n",
              "         6.98364043e-05, -1.51575902e-04,  5.11880880e-05,\n",
              "         6.04783852e-05, -1.33552229e-05, -6.02066831e-06,\n",
              "        -2.09177487e-05, -2.31348041e-05,  2.08524009e-05,\n",
              "        -3.91180292e-05, -9.51167494e-05, -3.47983380e-05,\n",
              "         8.09544063e-05]])"
            ]
          },
          "metadata": {
            "tags": []
          },
          "execution_count": 89
        }
      ]
    },
    {
      "metadata": {
        "id": "UWglHKLT4H5H",
        "colab_type": "code",
        "colab": {}
      },
      "cell_type": "code",
      "source": [
        ""
      ],
      "execution_count": 0,
      "outputs": []
    },
    {
      "metadata": {
        "id": "u5yiDN7n_Qng",
        "colab_type": "code",
        "colab": {}
      },
      "cell_type": "code",
      "source": [
        "weights = np.random.random(noa)\n",
        "weights /= np.sum(weights)"
      ],
      "execution_count": 0,
      "outputs": []
    },
    {
      "metadata": {
        "id": "CLFZrSLXipdo",
        "colab_type": "code",
        "colab": {
          "base_uri": "https://localhost:8080/",
          "height": 34
        },
        "outputId": "5e84300e-fb54-41c7-b9fc-2b9a8ad0bd09"
      },
      "cell_type": "code",
      "source": [
        "weights"
      ],
      "execution_count": 0,
      "outputs": [
        {
          "output_type": "execute_result",
          "data": {
            "text/plain": [
              "array([0.17223814, 0.25978056, 0.40912281, 0.15885848])"
            ]
          },
          "metadata": {
            "tags": []
          },
          "execution_count": 112
        }
      ]
    },
    {
      "metadata": {
        "id": "u7r5tj1MiuNd",
        "colab_type": "code",
        "colab": {
          "base_uri": "https://localhost:8080/",
          "height": 34
        },
        "outputId": "8912dd93-bef1-417f-a5d5-529dc17a0bf0"
      },
      "cell_type": "code",
      "source": [
        "np.sum(rets.mean() * weights) * 252"
      ],
      "execution_count": 0,
      "outputs": [
        {
          "output_type": "execute_result",
          "data": {
            "text/plain": [
              "0.44302792858924217"
            ]
          },
          "metadata": {
            "tags": []
          },
          "execution_count": 113
        }
      ]
    },
    {
      "metadata": {
        "id": "a-fdrxTUixl5",
        "colab_type": "code",
        "colab": {
          "base_uri": "https://localhost:8080/",
          "height": 34
        },
        "outputId": "973f3545-d012-4a2d-db95-02ff33ac9c23"
      },
      "cell_type": "code",
      "source": [
        "np.dot(weights.T, np.dot(rets.cov() * 252, weights))\n"
      ],
      "execution_count": 0,
      "outputs": [
        {
          "output_type": "execute_result",
          "data": {
            "text/plain": [
              "0.05746968094588763"
            ]
          },
          "metadata": {
            "tags": []
          },
          "execution_count": 114
        }
      ]
    },
    {
      "metadata": {
        "id": "iUrwUstKjN3K",
        "colab_type": "code",
        "colab": {
          "base_uri": "https://localhost:8080/",
          "height": 34
        },
        "outputId": "0e54041f-f283-467c-8374-1098b8d43a7d"
      },
      "cell_type": "code",
      "source": [
        "np.sqrt(np.dot(weights.T, np.dot(rets.cov() * 252, weights)))\n"
      ],
      "execution_count": 0,
      "outputs": [
        {
          "output_type": "execute_result",
          "data": {
            "text/plain": [
              "0.23972834823167583"
            ]
          },
          "metadata": {
            "tags": []
          },
          "execution_count": 115
        }
      ]
    },
    {
      "metadata": {
        "id": "-dUzU6Orjzgv",
        "colab_type": "code",
        "colab": {}
      },
      "cell_type": "code",
      "source": [
        "prets = []\n",
        "pvols = []\n",
        "for p in range (2500):\n",
        " weights = np.random.random(noa)\n",
        " weights /= np.sum(weights)\n",
        " prets.append(np.sum(rets.mean() * weights) * 252)\n",
        " pvols.append(np.sqrt(np.dot(weights.T,\n",
        " np.dot(rets.cov() * 252, weights))))\n",
        "  \n",
        "prets = np.array(prets)\n",
        "pvols = np.array(pvols)\n",
        "\n"
      ],
      "execution_count": 0,
      "outputs": []
    },
    {
      "metadata": {
        "id": "SYmBWiZ4j3P-",
        "colab_type": "code",
        "colab": {
          "base_uri": "https://localhost:8080/",
          "height": 351
        },
        "outputId": "bc708261-c64a-4a84-bdbc-1946eeab60e0"
      },
      "cell_type": "code",
      "source": [
        "plt.figure(figsize=(8, 5))\n",
        "plt.scatter(pvols, prets, c=prets / pvols, marker='o')\n",
        "plt.grid(True)\n",
        "plt.xlabel('expected volatility')\n",
        "plt.ylabel('expected return')\n",
        "plt.colorbar(label='Sharpe ratio')"
      ],
      "execution_count": 0,
      "outputs": [
        {
          "output_type": "execute_result",
          "data": {
            "text/plain": [
              "<matplotlib.colorbar.Colorbar at 0x7f187f43e160>"
            ]
          },
          "metadata": {
            "tags": []
          },
          "execution_count": 137
        },
        {
          "output_type": "display_data",
          "data": {
            "image/png": "[encoded data removed]",
            "text/plain": [
              "<matplotlib.figure.Figure at 0x7f187f4f99e8>"
            ]
          },
          "metadata": {
            "tags": []
          }
        }
      ]
    },
    {
      "metadata": {
        "id": "n0IWLkPEj8zo",
        "colab_type": "code",
        "colab": {}
      },
      "cell_type": "code",
      "source": [
        "palt?"
      ],
      "execution_count": 0,
      "outputs": []
    },
    {
      "metadata": {
        "id": "0hY-n2-Alh9L",
        "colab_type": "code",
        "colab": {}
      },
      "cell_type": "code",
      "source": [
        "x = np.array([[0,0], [1, 1], [2, 0]]).T"
      ],
      "execution_count": 0,
      "outputs": []
    },
    {
      "metadata": {
        "id": "HdlOXI9yxZft",
        "colab_type": "code",
        "colab": {
          "base_uri": "https://localhost:8080/",
          "height": 51
        },
        "outputId": "faa832cb-25ce-4fb1-d818-e990d9f88179"
      },
      "cell_type": "code",
      "source": [
        "np.cov(x)\n"
      ],
      "execution_count": 81,
      "outputs": [
        {
          "output_type": "execute_result",
          "data": {
            "text/plain": [
              "array([[1.        , 0.        ],\n",
              "       [0.        , 0.33333333]])"
            ]
          },
          "metadata": {
            "tags": []
          },
          "execution_count": 81
        }
      ]
    },
    {
      "metadata": {
        "id": "p33cGJ5oxb6t",
        "colab_type": "code",
        "colab": {}
      },
      "cell_type": "code",
      "source": [
        ""
      ],
      "execution_count": 0,
      "outputs": []
    }
  ]
}