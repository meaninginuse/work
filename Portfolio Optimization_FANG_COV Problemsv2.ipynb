{
  "nbformat": 4,
  "nbformat_minor": 0,
  "metadata": {
    "colab": {
      "name": "Pandas_Datareader IEX",
      "version": "0.3.2",
      "provenance": [],
      "collapsed_sections": [],
      "include_colab_link": true
    },
    "kernelspec": {
      "name": "python3",
      "display_name": "Python 3"
    }
  },
  "cells": [
    {
      "cell_type": "markdown",
      "metadata": {
        "id": "view-in-github",
        "colab_type": "text"
      },
      "source": [
        "[View in Colaboratory](https://colab.research.google.com/github/meaninginuse/work/blob/master/Portfolio%20Optimization_FANG_COV%20Problemsv2.ipynb)"
      ]
    },
    {
      "metadata": {
        "id": "M7YMMace6T8e",
        "colab_type": "code",
        "colab": {}
      },
      "cell_type": "code",
      "source": [
        "import numpy as np\n",
        "import pandas as pd\n",
        "import datetime\n",
        "import matplotlib.pyplot as plt\n",
        "#pyplot had to be imported"
      ],
      "execution_count": 0,
      "outputs": []
    },
    {
      "metadata": {
        "id": "JOdGbXngVOWh",
        "colab_type": "code",
        "colab": {}
      },
      "cell_type": "code",
      "source": [
        "!pip install -q pandas_datareader\n",
        "import pandas_datareader as web\n",
        "#install package each time - can't call pandas directly"
      ],
      "execution_count": 0,
      "outputs": []
    },
    {
      "metadata": {
        "id": "xfI7VU7Fdp-8",
        "colab_type": "code",
        "colab": {}
      },
      "cell_type": "code",
      "source": [
        "symbols = ['FB', 'AAPL', 'NFLX', 'GOOG']\n",
        "noa = len(symbols)\n",
        "# this is a list that will then be looped for a dataframe"
      ],
      "execution_count": 0,
      "outputs": []
    },
    {
      "metadata": {
        "id": "t-6ftj4XsvVS",
        "colab_type": "code",
        "colab": {
          "base_uri": "https://localhost:8080/",
          "height": 34
        },
        "outputId": "705453ed-0e9c-4d99-fc7a-c9917eb069fe"
      },
      "cell_type": "code",
      "source": [
        "type(noa)"
      ],
      "execution_count": 112,
      "outputs": [
        {
          "output_type": "execute_result",
          "data": {
            "text/plain": [
              "int"
            ]
          },
          "metadata": {
            "tags": []
          },
          "execution_count": 112
        }
      ]
    },
    {
      "metadata": {
        "id": "Vz8DSype6Zqe",
        "colab_type": "code",
        "colab": {}
      },
      "cell_type": "code",
      "source": [
        "start = datetime.datetime(2018, 9, 2)\n",
        "#datetime for pulling quotes"
      ],
      "execution_count": 0,
      "outputs": []
    },
    {
      "metadata": {
        "id": "4jre3nil6bjR",
        "colab_type": "code",
        "colab": {}
      },
      "cell_type": "code",
      "source": [
        "end = datetime.datetime(2018, 10, 3)"
      ],
      "execution_count": 0,
      "outputs": []
    },
    {
      "metadata": {
        "id": "HpmSE1KV6dJ6",
        "colab_type": "code",
        "colab": {
          "base_uri": "https://localhost:8080/",
          "height": 111
        },
        "outputId": "22e465ff-1c20-4998-9c3b-bac4cfa54353"
      },
      "cell_type": "code",
      "source": [
        "f = web.DataReader('GOOG', 'iex', start, end)\n",
        "f.head(1)\n",
        "#check if the Datareader is working"
      ],
      "execution_count": 8,
      "outputs": [
        {
          "output_type": "execute_result",
          "data": {
            "text/html": [
              "<div>\n",
              "<style scoped>\n",
              "    .dataframe tbody tr th:only-of-type {\n",
              "        vertical-align: middle;\n",
              "    }\n",
              "\n",
              "    .dataframe tbody tr th {\n",
              "        vertical-align: top;\n",
              "    }\n",
              "\n",
              "    .dataframe thead th {\n",
              "        text-align: right;\n",
              "    }\n",
              "</style>\n",
              "<table border=\"1\" class=\"dataframe\">\n",
              "  <thead>\n",
              "    <tr style=\"text-align: right;\">\n",
              "      <th></th>\n",
              "      <th>open</th>\n",
              "      <th>high</th>\n",
              "      <th>low</th>\n",
              "      <th>close</th>\n",
              "      <th>volume</th>\n",
              "    </tr>\n",
              "    <tr>\n",
              "      <th>date</th>\n",
              "      <th></th>\n",
              "      <th></th>\n",
              "      <th></th>\n",
              "      <th></th>\n",
              "      <th></th>\n",
              "    </tr>\n",
              "  </thead>\n",
              "  <tbody>\n",
              "    <tr>\n",
              "      <th>2018-09-04</th>\n",
              "      <td>1204.27</td>\n",
              "      <td>1212.99</td>\n",
              "      <td>1192.5</td>\n",
              "      <td>1197.0</td>\n",
              "      <td>1831045</td>\n",
              "    </tr>\n",
              "  </tbody>\n",
              "</table>\n",
              "</div>"
            ],
            "text/plain": [
              "               open     high     low   close   volume\n",
              "date                                                 \n",
              "2018-09-04  1204.27  1212.99  1192.5  1197.0  1831045"
            ]
          },
          "metadata": {
            "tags": []
          },
          "execution_count": 8
        }
      ]
    },
    {
      "metadata": {
        "id": "EjNRkqbZ6efM",
        "colab_type": "code",
        "colab": {
          "base_uri": "https://localhost:8080/",
          "height": 111
        },
        "outputId": "d59a2f96-71c2-40d5-f6fc-179f57063de1"
      },
      "cell_type": "code",
      "source": [
        "data = pd.DataFrame()\n",
        "for sym in symbols:\n",
        " data[sym] = web.DataReader(sym, data_source='iex', start=start, end=end)['close']\n",
        "data.columns = symbols\n",
        "#loop that creates a dataframe\n",
        "data.head(1)"
      ],
      "execution_count": 9,
      "outputs": [
        {
          "output_type": "execute_result",
          "data": {
            "text/html": [
              "<div>\n",
              "<style scoped>\n",
              "    .dataframe tbody tr th:only-of-type {\n",
              "        vertical-align: middle;\n",
              "    }\n",
              "\n",
              "    .dataframe tbody tr th {\n",
              "        vertical-align: top;\n",
              "    }\n",
              "\n",
              "    .dataframe thead th {\n",
              "        text-align: right;\n",
              "    }\n",
              "</style>\n",
              "<table border=\"1\" class=\"dataframe\">\n",
              "  <thead>\n",
              "    <tr style=\"text-align: right;\">\n",
              "      <th></th>\n",
              "      <th>FB</th>\n",
              "      <th>AAPL</th>\n",
              "      <th>NFLX</th>\n",
              "      <th>GOOG</th>\n",
              "    </tr>\n",
              "    <tr>\n",
              "      <th>date</th>\n",
              "      <th></th>\n",
              "      <th></th>\n",
              "      <th></th>\n",
              "      <th></th>\n",
              "    </tr>\n",
              "  </thead>\n",
              "  <tbody>\n",
              "    <tr>\n",
              "      <th>2018-09-04</th>\n",
              "      <td>171.16</td>\n",
              "      <td>228.36</td>\n",
              "      <td>363.6</td>\n",
              "      <td>1197.0</td>\n",
              "    </tr>\n",
              "  </tbody>\n",
              "</table>\n",
              "</div>"
            ],
            "text/plain": [
              "                FB    AAPL   NFLX    GOOG\n",
              "date                                     \n",
              "2018-09-04  171.16  228.36  363.6  1197.0"
            ]
          },
          "metadata": {
            "tags": []
          },
          "execution_count": 9
        }
      ]
    },
    {
      "metadata": {
        "id": "pV6nNktl60d_",
        "colab_type": "code",
        "colab": {
          "base_uri": "https://localhost:8080/",
          "height": 648
        },
        "outputId": "7a04b65e-2806-4bc8-cac1-8432b5702244"
      },
      "cell_type": "code",
      "source": [
        "(data / data.iloc[0] * 100).plot(figsize=(12, 5))\n",
        "(data).plot(figsize=(12, 5))\n",
        "#ix is depreciated, replaced by iloc\n",
        "#this normals the data to a zero base\n"
      ],
      "execution_count": 10,
      "outputs": [
        {
          "output_type": "execute_result",
          "data": {
            "text/plain": [
              "<matplotlib.axes._subplots.AxesSubplot at 0x7fd9c83f7550>"
            ]
          },
          "metadata": {
            "tags": []
          },
          "execution_count": 10
        },
        {
          "output_type": "display_data",
          "data": {
            "image/png": "[encoded data removed]",
            "text/plain": [
              "<matplotlib.figure.Figure at 0x7fd9c84bd940>"
            ]
          },
          "metadata": {
            "tags": []
          }
        },
        {
          "output_type": "display_data",
          "data": {
            "image/png": "[encoded data removed]",
            "text/plain": [
              "<matplotlib.figure.Figure at 0x7fd9c8447748>"
            ]
          },
          "metadata": {
            "tags": []
          }
        }
      ]
    },
    {
      "metadata": {
        "id": "zY51EX9v8WCH",
        "colab_type": "code",
        "colab": {
          "base_uri": "https://localhost:8080/",
          "height": 264
        },
        "outputId": "9fbac81b-488b-49fc-9558-2cb4faba2a58"
      },
      "cell_type": "code",
      "source": [
        "rets = np.log(data / data.shift(1))\n",
        "#new column for returns based on position above\n",
        "#this uses log returns\n",
        "rets.info()\n",
        "#info show that the dataframe is empty for the first column, there's no shift down\n",
        "rets.head(1)\n"
      ],
      "execution_count": 11,
      "outputs": [
        {
          "output_type": "stream",
          "text": [
            "<class 'pandas.core.frame.DataFrame'>\n",
            "Index: 22 entries, 2018-09-04 to 2018-10-03\n",
            "Data columns (total 4 columns):\n",
            "FB      21 non-null float64\n",
            "AAPL    21 non-null float64\n",
            "NFLX    21 non-null float64\n",
            "GOOG    21 non-null float64\n",
            "dtypes: float64(4)\n",
            "memory usage: 880.0+ bytes\n"
          ],
          "name": "stdout"
        },
        {
          "output_type": "execute_result",
          "data": {
            "text/html": [
              "<div>\n",
              "<style scoped>\n",
              "    .dataframe tbody tr th:only-of-type {\n",
              "        vertical-align: middle;\n",
              "    }\n",
              "\n",
              "    .dataframe tbody tr th {\n",
              "        vertical-align: top;\n",
              "    }\n",
              "\n",
              "    .dataframe thead th {\n",
              "        text-align: right;\n",
              "    }\n",
              "</style>\n",
              "<table border=\"1\" class=\"dataframe\">\n",
              "  <thead>\n",
              "    <tr style=\"text-align: right;\">\n",
              "      <th></th>\n",
              "      <th>FB</th>\n",
              "      <th>AAPL</th>\n",
              "      <th>NFLX</th>\n",
              "      <th>GOOG</th>\n",
              "    </tr>\n",
              "    <tr>\n",
              "      <th>date</th>\n",
              "      <th></th>\n",
              "      <th></th>\n",
              "      <th></th>\n",
              "      <th></th>\n",
              "    </tr>\n",
              "  </thead>\n",
              "  <tbody>\n",
              "    <tr>\n",
              "      <th>2018-09-04</th>\n",
              "      <td>NaN</td>\n",
              "      <td>NaN</td>\n",
              "      <td>NaN</td>\n",
              "      <td>NaN</td>\n",
              "    </tr>\n",
              "  </tbody>\n",
              "</table>\n",
              "</div>"
            ],
            "text/plain": [
              "            FB  AAPL  NFLX  GOOG\n",
              "date                            \n",
              "2018-09-04 NaN   NaN   NaN   NaN"
            ]
          },
          "metadata": {
            "tags": []
          },
          "execution_count": 11
        }
      ]
    },
    {
      "metadata": {
        "id": "YusriZbll0OW",
        "colab_type": "code",
        "colab": {
          "base_uri": "https://localhost:8080/",
          "height": 142
        },
        "outputId": "6661f37a-d2e3-493d-e6d9-c1bab436b07e"
      },
      "cell_type": "code",
      "source": [
        "rets.head(2)\n",
        "#check for log returns \n",
        "#for NFLX the simple return 0.012165\n",
        "#log returns are lower when positive and higher when negative (until infinite)\n",
        "#they're also symmetrical"
      ],
      "execution_count": 12,
      "outputs": [
        {
          "output_type": "execute_result",
          "data": {
            "text/html": [
              "<div>\n",
              "<style scoped>\n",
              "    .dataframe tbody tr th:only-of-type {\n",
              "        vertical-align: middle;\n",
              "    }\n",
              "\n",
              "    .dataframe tbody tr th {\n",
              "        vertical-align: top;\n",
              "    }\n",
              "\n",
              "    .dataframe thead th {\n",
              "        text-align: right;\n",
              "    }\n",
              "</style>\n",
              "<table border=\"1\" class=\"dataframe\">\n",
              "  <thead>\n",
              "    <tr style=\"text-align: right;\">\n",
              "      <th></th>\n",
              "      <th>FB</th>\n",
              "      <th>AAPL</th>\n",
              "      <th>NFLX</th>\n",
              "      <th>GOOG</th>\n",
              "    </tr>\n",
              "    <tr>\n",
              "      <th>date</th>\n",
              "      <th></th>\n",
              "      <th></th>\n",
              "      <th></th>\n",
              "      <th></th>\n",
              "    </tr>\n",
              "  </thead>\n",
              "  <tbody>\n",
              "    <tr>\n",
              "      <th>2018-09-04</th>\n",
              "      <td>NaN</td>\n",
              "      <td>NaN</td>\n",
              "      <td>NaN</td>\n",
              "      <td>NaN</td>\n",
              "    </tr>\n",
              "    <tr>\n",
              "      <th>2018-09-05</th>\n",
              "      <td>-0.023528</td>\n",
              "      <td>-0.006546</td>\n",
              "      <td>-0.063644</td>\n",
              "      <td>-0.008827</td>\n",
              "    </tr>\n",
              "  </tbody>\n",
              "</table>\n",
              "</div>"
            ],
            "text/plain": [
              "                  FB      AAPL      NFLX      GOOG\n",
              "date                                              \n",
              "2018-09-04       NaN       NaN       NaN       NaN\n",
              "2018-09-05 -0.023528 -0.006546 -0.063644 -0.008827"
            ]
          },
          "metadata": {
            "tags": []
          },
          "execution_count": 12
        }
      ]
    },
    {
      "metadata": {
        "id": "_8HZGhZSl5R2",
        "colab_type": "code",
        "colab": {
          "base_uri": "https://localhost:8080/",
          "height": 142
        },
        "outputId": "93e5638d-7052-4c0f-e60c-5b7a3f760aea"
      },
      "cell_type": "code",
      "source": [
        "data.head(2)"
      ],
      "execution_count": 13,
      "outputs": [
        {
          "output_type": "execute_result",
          "data": {
            "text/html": [
              "<div>\n",
              "<style scoped>\n",
              "    .dataframe tbody tr th:only-of-type {\n",
              "        vertical-align: middle;\n",
              "    }\n",
              "\n",
              "    .dataframe tbody tr th {\n",
              "        vertical-align: top;\n",
              "    }\n",
              "\n",
              "    .dataframe thead th {\n",
              "        text-align: right;\n",
              "    }\n",
              "</style>\n",
              "<table border=\"1\" class=\"dataframe\">\n",
              "  <thead>\n",
              "    <tr style=\"text-align: right;\">\n",
              "      <th></th>\n",
              "      <th>FB</th>\n",
              "      <th>AAPL</th>\n",
              "      <th>NFLX</th>\n",
              "      <th>GOOG</th>\n",
              "    </tr>\n",
              "    <tr>\n",
              "      <th>date</th>\n",
              "      <th></th>\n",
              "      <th></th>\n",
              "      <th></th>\n",
              "      <th></th>\n",
              "    </tr>\n",
              "  </thead>\n",
              "  <tbody>\n",
              "    <tr>\n",
              "      <th>2018-09-04</th>\n",
              "      <td>171.16</td>\n",
              "      <td>228.36</td>\n",
              "      <td>363.60</td>\n",
              "      <td>1197.00</td>\n",
              "    </tr>\n",
              "    <tr>\n",
              "      <th>2018-09-05</th>\n",
              "      <td>167.18</td>\n",
              "      <td>226.87</td>\n",
              "      <td>341.18</td>\n",
              "      <td>1186.48</td>\n",
              "    </tr>\n",
              "  </tbody>\n",
              "</table>\n",
              "</div>"
            ],
            "text/plain": [
              "                FB    AAPL    NFLX     GOOG\n",
              "date                                       \n",
              "2018-09-04  171.16  228.36  363.60  1197.00\n",
              "2018-09-05  167.18  226.87  341.18  1186.48"
            ]
          },
          "metadata": {
            "tags": []
          },
          "execution_count": 13
        }
      ]
    },
    {
      "metadata": {
        "id": "JgUFuzQBumpQ",
        "colab_type": "code",
        "colab": {
          "base_uri": "https://localhost:8080/",
          "height": 425
        },
        "outputId": "7b52eaf5-af3c-4a13-d953-08039dcd03be"
      },
      "cell_type": "code",
      "source": [
        "rets['NFLX']"
      ],
      "execution_count": 14,
      "outputs": [
        {
          "output_type": "execute_result",
          "data": {
            "text/plain": [
              "date\n",
              "2018-09-04         NaN\n",
              "2018-09-05   -0.063644\n",
              "2018-09-06    0.015357\n",
              "2018-09-07    0.006387\n",
              "2018-09-10   -0.000775\n",
              "2018-09-11    0.021354\n",
              "2018-09-12    0.038634\n",
              "2018-09-13   -0.004877\n",
              "2018-09-14   -0.009799\n",
              "2018-09-17   -0.039758\n",
              "2018-09-18    0.048199\n",
              "2018-09-19   -0.001879\n",
              "2018-09-20   -0.004370\n",
              "2018-09-21   -0.011479\n",
              "2018-09-24    0.023044\n",
              "2018-09-25   -0.000487\n",
              "2018-09-26    0.022615\n",
              "2018-09-27    0.007461\n",
              "2018-09-28   -0.017435\n",
              "2018-10-01    0.019324\n",
              "2018-10-02   -0.011311\n",
              "2018-10-03   -0.000239\n",
              "Name: NFLX, dtype: float64"
            ]
          },
          "metadata": {
            "tags": []
          },
          "execution_count": 14
        }
      ]
    },
    {
      "metadata": {
        "id": "dah941iP94np",
        "colab_type": "code",
        "colab": {
          "base_uri": "https://localhost:8080/",
          "height": 102
        },
        "outputId": "51c7fc60-f340-4848-de09-dc0d7a5bc960"
      },
      "cell_type": "code",
      "source": [
        "rets.mean() * 252\n",
        "#simple arithmetic mean "
      ],
      "execution_count": 15,
      "outputs": [
        {
          "output_type": "execute_result",
          "data": {
            "text/plain": [
              "FB     -0.628220\n",
              "AAPL    0.193389\n",
              "NFLX    0.435881\n",
              "GOOG    0.059501\n",
              "dtype: float64"
            ]
          },
          "metadata": {
            "tags": []
          },
          "execution_count": 15
        }
      ]
    },
    {
      "metadata": {
        "id": "mnLjUm13-76Z",
        "colab_type": "code",
        "colab": {
          "base_uri": "https://localhost:8080/",
          "height": 173
        },
        "outputId": "82f48e9d-84f6-46d2-ae7e-098cb2f0c505"
      },
      "cell_type": "code",
      "source": [
        "rets.cov()*252\n",
        "#covariance happens on the daily\n",
        "#there are copies of figures AAPL & NFLX = NFLX & AAPL"
      ],
      "execution_count": 109,
      "outputs": [
        {
          "output_type": "execute_result",
          "data": {
            "text/html": [
              "<div>\n",
              "<style scoped>\n",
              "    .dataframe tbody tr th:only-of-type {\n",
              "        vertical-align: middle;\n",
              "    }\n",
              "\n",
              "    .dataframe tbody tr th {\n",
              "        vertical-align: top;\n",
              "    }\n",
              "\n",
              "    .dataframe thead th {\n",
              "        text-align: right;\n",
              "    }\n",
              "</style>\n",
              "<table border=\"1\" class=\"dataframe\">\n",
              "  <thead>\n",
              "    <tr style=\"text-align: right;\">\n",
              "      <th></th>\n",
              "      <th>FB</th>\n",
              "      <th>AAPL</th>\n",
              "      <th>NFLX</th>\n",
              "      <th>GOOG</th>\n",
              "    </tr>\n",
              "  </thead>\n",
              "  <tbody>\n",
              "    <tr>\n",
              "      <th>FB</th>\n",
              "      <td>0.065649</td>\n",
              "      <td>0.022726</td>\n",
              "      <td>0.025507</td>\n",
              "      <td>0.024086</td>\n",
              "    </tr>\n",
              "    <tr>\n",
              "      <th>AAPL</th>\n",
              "      <td>0.022726</td>\n",
              "      <td>0.049753</td>\n",
              "      <td>0.020677</td>\n",
              "      <td>0.027756</td>\n",
              "    </tr>\n",
              "    <tr>\n",
              "      <th>NFLX</th>\n",
              "      <td>0.025507</td>\n",
              "      <td>0.020677</td>\n",
              "      <td>0.154922</td>\n",
              "      <td>0.013856</td>\n",
              "    </tr>\n",
              "    <tr>\n",
              "      <th>GOOG</th>\n",
              "      <td>0.024086</td>\n",
              "      <td>0.027756</td>\n",
              "      <td>0.013856</td>\n",
              "      <td>0.022136</td>\n",
              "    </tr>\n",
              "  </tbody>\n",
              "</table>\n",
              "</div>"
            ],
            "text/plain": [
              "            FB      AAPL      NFLX      GOOG\n",
              "FB    0.065649  0.022726  0.025507  0.024086\n",
              "AAPL  0.022726  0.049753  0.020677  0.027756\n",
              "NFLX  0.025507  0.020677  0.154922  0.013856\n",
              "GOOG  0.024086  0.027756  0.013856  0.022136"
            ]
          },
          "metadata": {
            "tags": []
          },
          "execution_count": 109
        }
      ]
    },
    {
      "metadata": {
        "id": "u5yiDN7n_Qng",
        "colab_type": "code",
        "colab": {
          "base_uri": "https://localhost:8080/",
          "height": 34
        },
        "outputId": "6fd2e869-4e2e-4861-b7de-4a94064b1d00"
      },
      "cell_type": "code",
      "source": [
        "weights = np.random.random(noa)\n",
        "weights /= np.sum(weights)\n",
        "#new numpy array of 4 random number that add up to 1\n",
        "#second line assures weight are equal to 1\n",
        "weights"
      ],
      "execution_count": 170,
      "outputs": [
        {
          "output_type": "execute_result",
          "data": {
            "text/plain": [
              "array([0.38589276, 0.10125468, 0.10440398, 0.40844858])"
            ]
          },
          "metadata": {
            "tags": []
          },
          "execution_count": 170
        }
      ]
    },
    {
      "metadata": {
        "id": "u7r5tj1MiuNd",
        "colab_type": "code",
        "colab": {}
      },
      "cell_type": "code",
      "source": [
        "test = np.sum(rets.mean() * weights) * 252"
      ],
      "execution_count": 0,
      "outputs": []
    },
    {
      "metadata": {
        "id": "txyA0oAhyaxs",
        "colab_type": "code",
        "colab": {
          "base_uri": "https://localhost:8080/",
          "height": 34
        },
        "outputId": "13b5ad60-003a-4d45-b6d7-792273e52342"
      },
      "cell_type": "code",
      "source": [
        "print(test)"
      ],
      "execution_count": 172,
      "outputs": [
        {
          "output_type": "stream",
          "text": [
            "-0.15303298261181092\n"
          ],
          "name": "stdout"
        }
      ]
    },
    {
      "metadata": {
        "id": "a-fdrxTUixl5",
        "colab_type": "code",
        "colab": {
          "base_uri": "https://localhost:8080/",
          "height": 34
        },
        "outputId": "973f3545-d012-4a2d-db95-02ff33ac9c23"
      },
      "cell_type": "code",
      "source": [
        "np.dot(weights.T, np.dot(rets.cov() * 252, weights))\n"
      ],
      "execution_count": 0,
      "outputs": [
        {
          "output_type": "execute_result",
          "data": {
            "text/plain": [
              "0.05746968094588763"
            ]
          },
          "metadata": {
            "tags": []
          },
          "execution_count": 114
        }
      ]
    },
    {
      "metadata": {
        "id": "iUrwUstKjN3K",
        "colab_type": "code",
        "colab": {
          "base_uri": "https://localhost:8080/",
          "height": 34
        },
        "outputId": "73ce665d-6295-4907-eca0-cfc1f4fbe8d8"
      },
      "cell_type": "code",
      "source": [
        "np.sqrt(np.dot(weights.T, np.dot(rets.cov() * 252, weights)))\n"
      ],
      "execution_count": 74,
      "outputs": [
        {
          "output_type": "execute_result",
          "data": {
            "text/plain": [
              "0.21684955363394043"
            ]
          },
          "metadata": {
            "tags": []
          },
          "execution_count": 74
        }
      ]
    },
    {
      "metadata": {
        "id": "-dUzU6Orjzgv",
        "colab_type": "code",
        "colab": {}
      },
      "cell_type": "code",
      "source": [
        "prets = []\n",
        "pvols = []\n",
        "for p in range (2500):\n",
        " weights = np.random.random(noa)\n",
        " weights /= np.sum(weights)\n",
        " prets.append(np.sum(rets.mean() * weights) * 252)\n",
        " pvols.append(np.sqrt(np.dot(weights.T,\n",
        " np.dot(rets.cov() * 252, weights))))\n",
        "  \n",
        "prets = np.array(prets)\n",
        "pvols = np.array(pvols)\n",
        "\n"
      ],
      "execution_count": 0,
      "outputs": []
    },
    {
      "metadata": {
        "id": "SYmBWiZ4j3P-",
        "colab_type": "code",
        "colab": {
          "base_uri": "https://localhost:8080/",
          "height": 351
        },
        "outputId": "59234304-971e-4c9f-cbf3-04a09061b3b3"
      },
      "cell_type": "code",
      "source": [
        "plt.figure(figsize=(8, 5))\n",
        "plt.scatter(pvols, prets, c=prets / pvols, marker='o')\n",
        "plt.grid(True)\n",
        "plt.xlabel('expected volatility')\n",
        "plt.ylabel('expected return')\n",
        "plt.colorbar(label='Sharpe ratio')"
      ],
      "execution_count": 76,
      "outputs": [
        {
          "output_type": "execute_result",
          "data": {
            "text/plain": [
              "<matplotlib.colorbar.Colorbar at 0x7fd9c42604a8>"
            ]
          },
          "metadata": {
            "tags": []
          },
          "execution_count": 76
        },
        {
          "output_type": "display_data",
          "data": {
            "image/png": "[encoded data removed]",
            "text/plain": [
              "<matplotlib.figure.Figure at 0x7fd9c42e4dd8>"
            ]
          },
          "metadata": {
            "tags": []
          }
        }
      ]
    },
    {
      "metadata": {
        "id": "n0IWLkPEj8zo",
        "colab_type": "code",
        "colab": {}
      },
      "cell_type": "code",
      "source": [
        "palt?"
      ],
      "execution_count": 0,
      "outputs": []
    },
    {
      "metadata": {
        "id": "0hY-n2-Alh9L",
        "colab_type": "code",
        "colab": {}
      },
      "cell_type": "code",
      "source": [
        "x = np.array([[-1,-1], [1,1],]).T"
      ],
      "execution_count": 0,
      "outputs": []
    },
    {
      "metadata": {
        "id": "HdlOXI9yxZft",
        "colab_type": "code",
        "colab": {
          "base_uri": "https://localhost:8080/",
          "height": 51
        },
        "outputId": "3e3d9127-b4ba-4264-d0d2-19dd061e8ae9"
      },
      "cell_type": "code",
      "source": [
        "np.cov(x)\n",
        "#think about deviations from the mean, eg 2 data with identical values will have covariance of 0\n",
        "#the size of matrix will lead to the number of covariances, eg. 2 will be 4, 4 will be 16\n",
        "#correlation is scaled covariance"
      ],
      "execution_count": 107,
      "outputs": [
        {
          "output_type": "execute_result",
          "data": {
            "text/plain": [
              "array([[2., 2.],\n",
              "       [2., 2.]])"
            ]
          },
          "metadata": {
            "tags": []
          },
          "execution_count": 107
        }
      ]
    },
    {
      "metadata": {
        "id": "p33cGJ5oxb6t",
        "colab_type": "code",
        "colab": {
          "base_uri": "https://localhost:8080/",
          "height": 163
        },
        "outputId": "98c1958e-b3ae-44d0-f8fe-722a9e68fb95"
      },
      "cell_type": "code",
      "source": [
        "rets.shape()"
      ],
      "execution_count": 40,
      "outputs": [
        {
          "output_type": "error",
          "ename": "TypeError",
          "evalue": "ignored",
          "traceback": [
            "\u001b[0;31m---------------------------------------------------------------------------\u001b[0m",
            "\u001b[0;31mTypeError\u001b[0m                                 Traceback (most recent call last)",
            "\u001b[0;32m<ipython-input-40-9468df2b193f>\u001b[0m in \u001b[0;36m<module>\u001b[0;34m()\u001b[0m\n\u001b[0;32m----> 1\u001b[0;31m \u001b[0mrets\u001b[0m\u001b[0;34m.\u001b[0m\u001b[0mshape\u001b[0m\u001b[0;34m(\u001b[0m\u001b[0;34m)\u001b[0m\u001b[0;34m\u001b[0m\u001b[0m\n\u001b[0m",
            "\u001b[0;31mTypeError\u001b[0m: 'tuple' object is not callable"
          ]
        }
      ]
    },
    {
      "metadata": {
        "id": "eu9F4W6TXLpu",
        "colab_type": "code",
        "colab": {}
      },
      "cell_type": "code",
      "source": [
        "x/"
      ],
      "execution_count": 0,
      "outputs": []
    }
  ]
}